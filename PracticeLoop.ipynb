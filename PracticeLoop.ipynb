{
 "cells": [
  {
   "cell_type": "code",
   "execution_count": 1,
   "id": "ebb8a38a",
   "metadata": {},
   "outputs": [
    {
     "data": {
      "text/plain": [
       "'\\nGiven a list of numbers i.e. [1, 2, 4, -5, 7, 9, 3, 2], make another list\\nthat contains all the items in sorted order from min to max. i.e. your \\nresult will be another list like [-5, 1, 2, 2, 3, 3, 7, 9]\\n'"
      ]
     },
     "execution_count": 1,
     "metadata": {},
     "output_type": "execute_result"
    }
   ],
   "source": [
    "\"\"\"\n",
    "Given a list of numbers i.e. [1, 2, 4, -5, 7, 9, 3, 2], make another list\n",
    "that contains all the items in sorted order from min to max. i.e. your \n",
    "result will be another list like [-5, 1, 2, 2, 3, 3, 7, 9]\n",
    "\"\"\""
   ]
  },
  {
   "cell_type": "code",
   "execution_count": 13,
   "id": "85305ca3",
   "metadata": {},
   "outputs": [
    {
     "name": "stdout",
     "output_type": "stream",
     "text": [
      "[-5, 1, 2, 2, 3, 4, 7, 9]\n"
     ]
    }
   ],
   "source": [
    "L = [1, 2, 4, -5, 7, 9, 3, 2]\n",
    "for j in range(len(L)):\n",
    "    m = L[j]\n",
    "    idx = j\n",
    "    cnt = j\n",
    "    for i in range(j, len(L)):\n",
    "        if L[i] < m:\n",
    "            m = L[i]\n",
    "            idx = cnt\n",
    "        cnt += 1\n",
    "    # print(idx, m)\n",
    "    tmp = L[j]\n",
    "    L[j] = m\n",
    "    L[idx] = tmp\n",
    "print(L)\n"
   ]
  },
  {
   "cell_type": "code",
   "execution_count": 11,
   "id": "57e3bec1",
   "metadata": {},
   "outputs": [
    {
     "data": {
      "text/plain": [
       "[-5, 1, 2, 2, 3, 4, 7, 9]"
      ]
     },
     "execution_count": 11,
     "metadata": {},
     "output_type": "execute_result"
    }
   ],
   "source": [
    "L"
   ]
  },
  {
   "cell_type": "code",
   "execution_count": 14,
   "id": "ef4cb018",
   "metadata": {},
   "outputs": [
    {
     "name": "stdout",
     "output_type": "stream",
     "text": [
      "[-5, 1, 2, 2, 3, 4, 7, 9]\n"
     ]
    }
   ],
   "source": [
    "List = [1, 2, 4, -5, 7, 9, 3, 2]\n",
    "L.sort()\n",
    "print(L)"
   ]
  },
  {
   "cell_type": "code",
   "execution_count": null,
   "id": "7cda3f2b",
   "metadata": {},
   "outputs": [],
   "source": [
    "def printSuccess()\"\n",
    "    print(\"The task was successful\")"
   ]
  }
 ],
 "metadata": {
  "kernelspec": {
   "display_name": "Python 3 (ipykernel)",
   "language": "python",
   "name": "python3"
  },
  "language_info": {
   "codemirror_mode": {
    "name": "ipython",
    "version": 3
   },
   "file_extension": ".py",
   "mimetype": "text/x-python",
   "name": "python",
   "nbconvert_exporter": "python",
   "pygments_lexer": "ipython3",
   "version": "3.9.13"
  }
 },
 "nbformat": 4,
 "nbformat_minor": 5
}
