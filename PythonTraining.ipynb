{
 "cells": [
  {
   "cell_type": "code",
   "execution_count": 2,
   "id": "5aa4d4a1",
   "metadata": {},
   "outputs": [
    {
     "name": "stdout",
     "output_type": "stream",
     "text": [
      "6\n",
      "5\n",
      "I am outside If condition\n"
     ]
    }
   ],
   "source": [
    "a = int(input())\n",
    "b = int(input())\n",
    "if a<b:\n",
    "    print(a)\n",
    "    print(\"I am still inside if condition\")\n",
    "print(\"I am outside If condition\")"
   ]
  },
  {
   "cell_type": "code",
   "execution_count": 4,
   "id": "cedadcba",
   "metadata": {},
   "outputs": [
    {
     "name": "stdout",
     "output_type": "stream",
     "text": [
      "20\n",
      "10\n",
      "20\n"
     ]
    }
   ],
   "source": [
    "a = int(input())\n",
    "b = int(input())\n",
    "if a > b:\n",
    "    print(a)\n",
    "if b > a:\n",
    "    print(b)"
   ]
  },
  {
   "cell_type": "code",
   "execution_count": 5,
   "id": "b59215e2",
   "metadata": {},
   "outputs": [
    {
     "name": "stdout",
     "output_type": "stream",
     "text": [
      "10.67\n",
      "11.34\n",
      "b is greater than a\n"
     ]
    }
   ],
   "source": [
    "a = float(input())\n",
    "b = float(input())\n",
    "if b > a:\n",
    "    print(\"b is greater than a\")\n",
    "elif a == b:\n",
    "    print(\"a and b are equal\")\n",
    "else:\n",
    "    print(\"a is greater than b\")"
   ]
  },
  {
   "cell_type": "code",
   "execution_count": 2,
   "id": "63c48c82",
   "metadata": {},
   "outputs": [
    {
     "name": "stdout",
     "output_type": "stream",
     "text": [
      "A\n"
     ]
    }
   ],
   "source": [
    "a = 10\n",
    "b = 5\n",
    "if a == b:\n",
    "    print(\"Equal\")\n",
    "elif a > b:\n",
    "    print(\"A\")\n",
    "else:\n",
    "    print(\"B\")"
   ]
  },
  {
   "cell_type": "code",
   "execution_count": 5,
   "id": "82b5b6cf",
   "metadata": {},
   "outputs": [
    {
     "name": "stdout",
     "output_type": "stream",
     "text": [
      "Enter Marks :65\n",
      "Below Average\n"
     ]
    }
   ],
   "source": [
    "a = int(input(\"Enter Marks :\"))\n",
    "if a >= 85:\n",
    "    print(\"A+\")\n",
    "elif (a >= 80) and (a < 85):\n",
    "    print(\"A\")\n",
    "elif (a >= 75) and (a < 80):\n",
    "    print(\"B+\")\n",
    "elif (a >= 70) and (a < 75):\n",
    "    print(\"B\") \n",
    "else:\n",
    "    print(\"Below Average\")"
   ]
  },
  {
   "cell_type": "code",
   "execution_count": 7,
   "id": "ab6fe114",
   "metadata": {},
   "outputs": [
    {
     "name": "stdout",
     "output_type": "stream",
     "text": [
      ">10\n"
     ]
    }
   ],
   "source": [
    "a = 13\n",
    "if a>10:\n",
    "    print(\">10\")\n",
    "elif not(a>10):\n",
    "    print(\"<10\")"
   ]
  },
  {
   "cell_type": "code",
   "execution_count": 8,
   "id": "54ac8258",
   "metadata": {},
   "outputs": [
    {
     "name": "stdout",
     "output_type": "stream",
     "text": [
      "Variable   Type    Data/Info\n",
      "----------------------------\n",
      "a          int     13\n",
      "b          int     5\n"
     ]
    }
   ],
   "source": [
    "%whos"
   ]
  },
  {
   "cell_type": "code",
   "execution_count": 13,
   "id": "715982cd",
   "metadata": {},
   "outputs": [
    {
     "name": "stdout",
     "output_type": "stream",
     "text": [
      "Enter a number: 25\n",
      "Your number is above 10, \n",
      "and also above 20!\n",
      "below 30\n"
     ]
    }
   ],
   "source": [
    "x = int(input(\"Enter a number: \"))\n",
    "if x > 10:\n",
    "    print(\"Your number is above 10, \")\n",
    "    if x > 20:\n",
    "        print(\"and also above 20!\")\n",
    "        if x > 30:\n",
    "            print(\"Also above 30!\")\n",
    "        else:\n",
    "            print(\"below 30\")\n",
    "    else:\n",
    "        print(\"but not above 20.\")"
   ]
  },
  {
   "cell_type": "code",
   "execution_count": 15,
   "id": "ae9c4015",
   "metadata": {},
   "outputs": [
    {
     "data": {
      "text/plain": [
       "' Multi Line Comment'"
      ]
     },
     "execution_count": 15,
     "metadata": {},
     "output_type": "execute_result"
    }
   ],
   "source": [
    "# Single Line Comment\n",
    "\"\"\" Multi Line Comment\"\"\""
   ]
  },
  {
   "cell_type": "code",
   "execution_count": 16,
   "id": "27c456d2",
   "metadata": {},
   "outputs": [
    {
     "data": {
      "text/plain": [
       "'\\nUser will enter a floating point nu,ber let say 238.915. Your task is\\nto find out the integer portion before the point(in this case 238)\\nand then check if that integer portion is an even number or not?\\n'"
      ]
     },
     "execution_count": 16,
     "metadata": {},
     "output_type": "execute_result"
    }
   ],
   "source": [
    "\"\"\"\n",
    "User will enter a floating point nu,ber let say 238.915. Your task is\n",
    "to find out the integer portion before the point(in this case 238)\n",
    "and then check if that integer portion is an even number or not?\n",
    "\"\"\""
   ]
  },
  {
   "cell_type": "code",
   "execution_count": 31,
   "id": "59def266",
   "metadata": {},
   "outputs": [
    {
     "name": "stdout",
     "output_type": "stream",
     "text": [
      "Enter a real number: -87.3\n",
      "Odd\n"
     ]
    }
   ],
   "source": [
    "x = float(input(\"Enter a real number: \"))\n",
    "y = round(x) # helps?\n",
    "if x > 0:\n",
    "    if y > x:\n",
    "        intPortion = y-1 # 29.6 rounded 30 intPort = 30-1 = 29\n",
    "    else: intPortionion = y\n",
    "else:\n",
    "    if y < x:\n",
    "            intPortion = y + 1\n",
    "    else:\n",
    "        intPortion = y\n",
    "if intPortion%2 == 0:\n",
    "    print(\"Even\")\n",
    "else:\n",
    "    print(\"Odd\")"
   ]
  },
  {
   "cell_type": "code",
   "execution_count": 24,
   "id": "266eef9e",
   "metadata": {},
   "outputs": [
    {
     "data": {
      "text/plain": [
       "-10"
      ]
     },
     "execution_count": 24,
     "metadata": {},
     "output_type": "execute_result"
    }
   ],
   "source": [
    "round(-9.6)"
   ]
  },
  {
   "cell_type": "code",
   "execution_count": 25,
   "id": "2479ddd4",
   "metadata": {},
   "outputs": [
    {
     "data": {
      "text/plain": [
       "-9"
      ]
     },
     "execution_count": 25,
     "metadata": {},
     "output_type": "execute_result"
    }
   ],
   "source": [
    "round(-9.3)"
   ]
  },
  {
   "cell_type": "markdown",
   "id": "d913926e",
   "metadata": {},
   "source": [
    "### Loop"
   ]
  },
  {
   "cell_type": "code",
   "execution_count": null,
   "id": "ad2a82b7",
   "metadata": {},
   "outputs": [],
   "source": [
    "n = int(input())\n",
    "i = 1\n",
    "while i < n:\n",
    "    print(i**2)\n",
    "    print(\"This is iteration number: \", i)\n",
    "    i += 1\n",
    "print(\"Loop Done\")\n"
   ]
  }
 ],
 "metadata": {
  "kernelspec": {
   "display_name": "Python 3 (ipykernel)",
   "language": "python",
   "name": "python3"
  },
  "language_info": {
   "codemirror_mode": {
    "name": "ipython",
    "version": 3
   },
   "file_extension": ".py",
   "mimetype": "text/x-python",
   "name": "python",
   "nbconvert_exporter": "python",
   "pygments_lexer": "ipython3",
   "version": "3.9.13"
  }
 },
 "nbformat": 4,
 "nbformat_minor": 5
}
