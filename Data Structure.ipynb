{
 "cells": [
  {
   "cell_type": "markdown",
   "id": "912dd095",
   "metadata": {},
   "source": [
    "## Data Structures"
   ]
  },
  {
   "cell_type": "code",
   "execution_count": 1,
   "id": "ea653129",
   "metadata": {},
   "outputs": [],
   "source": [
    "L = [1, 3, 4, 9, \"name\", 3] # List\n",
    "T = (1, 3, 4, 9, \"name\", 3) # Tuple\n",
    "S = {1, 2, 4, 9, \"name\", 3} # Set\n",
    "D = {23: \"twothree\", 'B':42, 'C':'CCD'} # Dictionary"
   ]
  },
  {
   "cell_type": "code",
   "execution_count": 2,
   "id": "9e8d01a6",
   "metadata": {},
   "outputs": [
    {
     "name": "stdout",
     "output_type": "stream",
     "text": [
      "Type of L:  <class 'list'>\n",
      "Type of T:  <class 'tuple'>\n",
      "Type of S:  <class 'set'>\n",
      "Type of D:  <class 'dict'>\n"
     ]
    }
   ],
   "source": [
    "print(\"Type of L: \",type(L))\n",
    "print(\"Type of T: \",type(T))\n",
    "print(\"Type of S: \",type(S))\n",
    "print(\"Type of D: \",type(D))"
   ]
  },
  {
   "cell_type": "code",
   "execution_count": 3,
   "id": "94976edd",
   "metadata": {},
   "outputs": [
    {
     "name": "stdout",
     "output_type": "stream",
     "text": [
      "3\n",
      "3\n",
      "True\n",
      "42\n"
     ]
    }
   ],
   "source": [
    "print(L[1])\n",
    "print(T[1])\n",
    "print(3 in S)\n",
    "print(D['B'])"
   ]
  },
  {
   "cell_type": "code",
   "execution_count": 4,
   "id": "f8804d4e",
   "metadata": {},
   "outputs": [
    {
     "name": "stdout",
     "output_type": "stream",
     "text": [
      "{1, 2, 3, 4, 'name', 9}\n"
     ]
    }
   ],
   "source": [
    "print(S) # remove duplicate items"
   ]
  },
  {
   "cell_type": "code",
   "execution_count": 6,
   "id": "f4da2dda",
   "metadata": {},
   "outputs": [
    {
     "name": "stdout",
     "output_type": "stream",
     "text": [
      "[1, 3, 4, 9, 'name', 3]\n"
     ]
    }
   ],
   "source": [
    "print(L)"
   ]
  },
  {
   "cell_type": "code",
   "execution_count": 8,
   "id": "2c2bd8c2",
   "metadata": {},
   "outputs": [
    {
     "name": "stdout",
     "output_type": "stream",
     "text": [
      "[3, 4]\n"
     ]
    }
   ],
   "source": [
    "print(L[1:3])"
   ]
  },
  {
   "cell_type": "code",
   "execution_count": 9,
   "id": "d5267ebc",
   "metadata": {},
   "outputs": [
    {
     "name": "stdout",
     "output_type": "stream",
     "text": [
      "[3, 'name', 9, 4, 3, 1]\n"
     ]
    }
   ],
   "source": [
    "print(L[::-1])"
   ]
  },
  {
   "cell_type": "code",
   "execution_count": 10,
   "id": "77d8ab71",
   "metadata": {},
   "outputs": [
    {
     "name": "stdout",
     "output_type": "stream",
     "text": [
      "(1, 3, 4)\n"
     ]
    }
   ],
   "source": [
    "print(T[:3])"
   ]
  },
  {
   "cell_type": "code",
   "execution_count": 11,
   "id": "08d1db80",
   "metadata": {},
   "outputs": [],
   "source": [
    "L = L + [\"how\", \"are\", 6, \"you\"]"
   ]
  },
  {
   "cell_type": "code",
   "execution_count": 12,
   "id": "c4c63fb3",
   "metadata": {},
   "outputs": [
    {
     "name": "stdout",
     "output_type": "stream",
     "text": [
      "[1, 3, 4, 9, 'name', 3, 'how', 'are', 6, 'you']\n"
     ]
    }
   ],
   "source": [
    "print(L)"
   ]
  },
  {
   "cell_type": "code",
   "execution_count": 32,
   "id": "86ab26f3",
   "metadata": {},
   "outputs": [],
   "source": [
    "L.append(7)"
   ]
  },
  {
   "cell_type": "code",
   "execution_count": 33,
   "id": "45c0b13c",
   "metadata": {},
   "outputs": [
    {
     "name": "stdout",
     "output_type": "stream",
     "text": [
      "[1, 3, 4, 9, 'name', 3, 'how', 'are', 6, 'you', 7, 7]\n"
     ]
    }
   ],
   "source": [
    "print(L)"
   ]
  },
  {
   "cell_type": "code",
   "execution_count": 16,
   "id": "b04069f6",
   "metadata": {},
   "outputs": [
    {
     "name": "stdout",
     "output_type": "stream",
     "text": [
      "(1, 3, 4, 9, 'name', 3, 'a', 'b', 45)\n"
     ]
    }
   ],
   "source": [
    "T2 = ('a', 'b', 45)\n",
    "T3 = T+T2\n",
    "print(T3)"
   ]
  },
  {
   "cell_type": "code",
   "execution_count": 17,
   "id": "a054761e",
   "metadata": {},
   "outputs": [],
   "source": [
    "S.add(69)"
   ]
  },
  {
   "cell_type": "code",
   "execution_count": 18,
   "id": "29d2d848",
   "metadata": {},
   "outputs": [
    {
     "name": "stdout",
     "output_type": "stream",
     "text": [
      "{1, 2, 3, 4, 69, 'name', 9}\n"
     ]
    }
   ],
   "source": [
    "print(S)"
   ]
  },
  {
   "cell_type": "code",
   "execution_count": 20,
   "id": "2fd1ade1",
   "metadata": {},
   "outputs": [],
   "source": [
    "S.update({23, \"game\", 1})"
   ]
  },
  {
   "cell_type": "code",
   "execution_count": 21,
   "id": "53ff254b",
   "metadata": {},
   "outputs": [
    {
     "name": "stdout",
     "output_type": "stream",
     "text": [
      "{1, 2, 3, 4, 69, 'name', 9, 'game', 23}\n"
     ]
    }
   ],
   "source": [
    "print(S)"
   ]
  },
  {
   "cell_type": "code",
   "execution_count": 22,
   "id": "63325cb4",
   "metadata": {},
   "outputs": [],
   "source": [
    "D['newKey'] = 'NewValue'"
   ]
  },
  {
   "cell_type": "code",
   "execution_count": 23,
   "id": "26906c25",
   "metadata": {},
   "outputs": [
    {
     "name": "stdout",
     "output_type": "stream",
     "text": [
      "{23: 'twothree', 'B': 42, 'C': 'CCD', 'newKey': 'NewValue'}\n"
     ]
    }
   ],
   "source": [
    "print(D)"
   ]
  },
  {
   "cell_type": "code",
   "execution_count": 24,
   "id": "fb533efe",
   "metadata": {},
   "outputs": [
    {
     "ename": "TypeError",
     "evalue": "unsupported operand type(s) for +: 'dict' and 'dict'",
     "output_type": "error",
     "traceback": [
      "\u001b[0;31m---------------------------------------------------------------------------\u001b[0m",
      "\u001b[0;31mTypeError\u001b[0m                                 Traceback (most recent call last)",
      "\u001b[0;32m/tmp/ipykernel_11485/3208943946.py\u001b[0m in \u001b[0;36m<module>\u001b[0;34m\u001b[0m\n\u001b[1;32m      1\u001b[0m \u001b[0mD2\u001b[0m \u001b[0;34m=\u001b[0m \u001b[0;34m{\u001b[0m\u001b[0;34m\"y\"\u001b[0m\u001b[0;34m:\u001b[0m\u001b[0;34m\"YY\"\u001b[0m\u001b[0;34m,\u001b[0m \u001b[0;34m\"z\"\u001b[0m\u001b[0;34m:\u001b[0m\u001b[0;36m10\u001b[0m\u001b[0;34m}\u001b[0m\u001b[0;34m\u001b[0m\u001b[0;34m\u001b[0m\u001b[0m\n\u001b[0;32m----> 2\u001b[0;31m \u001b[0mD3\u001b[0m \u001b[0;34m=\u001b[0m \u001b[0mD\u001b[0m\u001b[0;34m+\u001b[0m\u001b[0mD2\u001b[0m\u001b[0;34m\u001b[0m\u001b[0;34m\u001b[0m\u001b[0m\n\u001b[0m",
      "\u001b[0;31mTypeError\u001b[0m: unsupported operand type(s) for +: 'dict' and 'dict'"
     ]
    }
   ],
   "source": [
    "D2 = {\"y\":\"YY\", \"z\":10}\n",
    "D3 = D+D2"
   ]
  },
  {
   "cell_type": "code",
   "execution_count": 34,
   "id": "10304d77",
   "metadata": {},
   "outputs": [
    {
     "name": "stdout",
     "output_type": "stream",
     "text": [
      "[1, 3, 4, 9, 'name', 3, 'how', 'are', 6, 'you', 7]\n"
     ]
    }
   ],
   "source": [
    "del L[10]\n",
    "print(L)"
   ]
  },
  {
   "cell_type": "code",
   "execution_count": 35,
   "id": "441a48c0",
   "metadata": {},
   "outputs": [
    {
     "name": "stdout",
     "output_type": "stream",
     "text": [
      "{1, 2, 3, 4, 69, 'name', 9, 23}\n"
     ]
    }
   ],
   "source": [
    "S.remove('game')\n",
    "print(S)"
   ]
  },
  {
   "cell_type": "code",
   "execution_count": 38,
   "id": "638c3ae8",
   "metadata": {},
   "outputs": [
    {
     "name": "stdout",
     "output_type": "stream",
     "text": [
      "{23: 'twothree', 'B': 42, 'newKey': 'NewValue'}\n"
     ]
    }
   ],
   "source": [
    "D['C'] = \"CCD\"\n",
    "del D['C']\n",
    "print(D)"
   ]
  },
  {
   "cell_type": "code",
   "execution_count": 39,
   "id": "b1be0ef1",
   "metadata": {},
   "outputs": [
    {
     "name": "stdout",
     "output_type": "stream",
     "text": [
      "[1, 3, 4, 9, 'name', 3, 'how', 'are', 6, 'you', 7]\n"
     ]
    }
   ],
   "source": [
    "L2 = L\n",
    "print(L2)"
   ]
  },
  {
   "cell_type": "code",
   "execution_count": 41,
   "id": "435d3aab",
   "metadata": {},
   "outputs": [],
   "source": [
    " L2[2] = 'four point nine'"
   ]
  },
  {
   "cell_type": "code",
   "execution_count": 42,
   "id": "f87074c7",
   "metadata": {},
   "outputs": [
    {
     "data": {
      "text/plain": [
       "[1, 3, 'four point nine', 9, 'name', 3, 'how', 'are', 6, 'you', 7]"
      ]
     },
     "execution_count": 42,
     "metadata": {},
     "output_type": "execute_result"
    }
   ],
   "source": [
    "L2"
   ]
  },
  {
   "cell_type": "code",
   "execution_count": 44,
   "id": "051740ec",
   "metadata": {},
   "outputs": [
    {
     "data": {
      "text/plain": [
       "[1, 3, 'four point nine', 9, 'name', 3, 'how', 'are', 6, 'you', 7]"
      ]
     },
     "execution_count": 44,
     "metadata": {},
     "output_type": "execute_result"
    }
   ],
   "source": [
    "L"
   ]
  },
  {
   "cell_type": "code",
   "execution_count": 45,
   "id": "08953b5c",
   "metadata": {},
   "outputs": [],
   "source": [
    "L2 = L.copy()"
   ]
  },
  {
   "cell_type": "code",
   "execution_count": 46,
   "id": "f9ea5509",
   "metadata": {},
   "outputs": [
    {
     "data": {
      "text/plain": [
       "[1, 3, 'four point nine', 9, 'name', 3, 'how', 'are', 6, 'you', 7]"
      ]
     },
     "execution_count": 46,
     "metadata": {},
     "output_type": "execute_result"
    }
   ],
   "source": [
    "L2"
   ]
  },
  {
   "cell_type": "code",
   "execution_count": 47,
   "id": "2f07815b",
   "metadata": {},
   "outputs": [
    {
     "data": {
      "text/plain": [
       "[1, 3, 'four point nine', 9, 'name', 3, 'how', 'are', 6, 'you', 7]"
      ]
     },
     "execution_count": 47,
     "metadata": {},
     "output_type": "execute_result"
    }
   ],
   "source": [
    "L"
   ]
  },
  {
   "cell_type": "code",
   "execution_count": 48,
   "id": "3f378f19",
   "metadata": {},
   "outputs": [],
   "source": [
    "L3 = L[1:5]"
   ]
  },
  {
   "cell_type": "code",
   "execution_count": 49,
   "id": "9172525b",
   "metadata": {},
   "outputs": [
    {
     "data": {
      "text/plain": [
       "[3, 'four point nine', 9, 'name']"
      ]
     },
     "execution_count": 49,
     "metadata": {},
     "output_type": "execute_result"
    }
   ],
   "source": [
    "L3"
   ]
  },
  {
   "cell_type": "code",
   "execution_count": 50,
   "id": "2adb16ae",
   "metadata": {},
   "outputs": [],
   "source": [
    "L3[0] = 'three'"
   ]
  },
  {
   "cell_type": "code",
   "execution_count": 51,
   "id": "028f83b7",
   "metadata": {},
   "outputs": [
    {
     "data": {
      "text/plain": [
       "['three', 'four point nine', 9, 'name']"
      ]
     },
     "execution_count": 51,
     "metadata": {},
     "output_type": "execute_result"
    }
   ],
   "source": [
    "L3"
   ]
  },
  {
   "cell_type": "code",
   "execution_count": 52,
   "id": "a04bb55d",
   "metadata": {},
   "outputs": [
    {
     "data": {
      "text/plain": [
       "[1, 3, 'four point nine', 9, 'name', 3, 'how', 'are', 6, 'you', 7]"
      ]
     },
     "execution_count": 52,
     "metadata": {},
     "output_type": "execute_result"
    }
   ],
   "source": [
    "L"
   ]
  },
  {
   "cell_type": "code",
   "execution_count": 54,
   "id": "3bb784b8",
   "metadata": {},
   "outputs": [
    {
     "name": "stdout",
     "output_type": "stream",
     "text": [
      "Help on built-in function append:\n",
      "\n",
      "append(object, /) method of builtins.list instance\n",
      "    Append object to the end of the list.\n",
      "\n"
     ]
    }
   ],
   "source": [
    "help(L.append)"
   ]
  },
  {
   "cell_type": "code",
   "execution_count": 55,
   "id": "2255699a",
   "metadata": {},
   "outputs": [],
   "source": [
    "L.clear()"
   ]
  },
  {
   "cell_type": "code",
   "execution_count": 56,
   "id": "46577366",
   "metadata": {},
   "outputs": [
    {
     "data": {
      "text/plain": [
       "[]"
      ]
     },
     "execution_count": 56,
     "metadata": {},
     "output_type": "execute_result"
    }
   ],
   "source": [
    "L"
   ]
  },
  {
   "cell_type": "code",
   "execution_count": 57,
   "id": "b4abdb33",
   "metadata": {},
   "outputs": [],
   "source": [
    "L.pop?"
   ]
  },
  {
   "cell_type": "code",
   "execution_count": 58,
   "id": "9e31b611",
   "metadata": {},
   "outputs": [
    {
     "data": {
      "text/plain": [
       "[1, 3, 'four point nine', 9, 'name', 3, 'how', 'are', 6, 'you', 7]"
      ]
     },
     "execution_count": 58,
     "metadata": {},
     "output_type": "execute_result"
    }
   ],
   "source": [
    "L2"
   ]
  },
  {
   "cell_type": "code",
   "execution_count": 62,
   "id": "65c6a5d1",
   "metadata": {},
   "outputs": [
    {
     "data": {
      "text/plain": [
       "[1, 3, 'four point nine', 9, 'name', 3, 'how', 'are', 6, 'you', 7]"
      ]
     },
     "execution_count": 62,
     "metadata": {},
     "output_type": "execute_result"
    }
   ],
   "source": [
    "L = L2\n",
    "L"
   ]
  },
  {
   "cell_type": "code",
   "execution_count": 63,
   "id": "757944aa",
   "metadata": {},
   "outputs": [],
   "source": [
    "L.reverse()"
   ]
  },
  {
   "cell_type": "code",
   "execution_count": 64,
   "id": "c1a43f70",
   "metadata": {},
   "outputs": [
    {
     "data": {
      "text/plain": [
       "[7, 'you', 6, 'are', 'how', 3, 'name', 9, 'four point nine', 3, 1]"
      ]
     },
     "execution_count": 64,
     "metadata": {},
     "output_type": "execute_result"
    }
   ],
   "source": [
    "L"
   ]
  },
  {
   "cell_type": "code",
   "execution_count": 67,
   "id": "289f30e4",
   "metadata": {
    "scrolled": true
   },
   "outputs": [
    {
     "data": {
      "text/plain": [
       "dict_items([(23, 'twothree'), ('B', 42), ('newKey', 'NewValue')])"
      ]
     },
     "execution_count": 67,
     "metadata": {},
     "output_type": "execute_result"
    }
   ],
   "source": [
    "D.items()"
   ]
  },
  {
   "cell_type": "code",
   "execution_count": 68,
   "id": "8c385a8c",
   "metadata": {},
   "outputs": [
    {
     "data": {
      "text/plain": [
       "[7, 'you', 6, 'are', 'how', 3, 'name', 9, 'four point nine', 3, 1]"
      ]
     },
     "execution_count": 68,
     "metadata": {},
     "output_type": "execute_result"
    }
   ],
   "source": [
    "L"
   ]
  },
  {
   "cell_type": "code",
   "execution_count": 69,
   "id": "9da135e5",
   "metadata": {},
   "outputs": [
    {
     "data": {
      "text/plain": [
       "(1, 3, 4, 9, 'name', 3)"
      ]
     },
     "execution_count": 69,
     "metadata": {},
     "output_type": "execute_result"
    }
   ],
   "source": [
    "T"
   ]
  },
  {
   "cell_type": "code",
   "execution_count": 71,
   "id": "c0d9c219",
   "metadata": {},
   "outputs": [
    {
     "data": {
      "text/plain": [
       "{1, 2, 23, 3, 4, 69, 9, 'name'}"
      ]
     },
     "execution_count": 71,
     "metadata": {},
     "output_type": "execute_result"
    }
   ],
   "source": [
    "S"
   ]
  },
  {
   "cell_type": "code",
   "execution_count": 72,
   "id": "aa71531d",
   "metadata": {},
   "outputs": [
    {
     "data": {
      "text/plain": [
       "{23: 'twothree', 'B': 42, 'newKey': 'NewValue'}"
      ]
     },
     "execution_count": 72,
     "metadata": {},
     "output_type": "execute_result"
    }
   ],
   "source": [
    "D"
   ]
  },
  {
   "cell_type": "code",
   "execution_count": 78,
   "id": "f61c730f",
   "metadata": {},
   "outputs": [],
   "source": [
    "D2 = {'A': L, 'B':T, 'C':S, 'D':D}"
   ]
  },
  {
   "cell_type": "code",
   "execution_count": 80,
   "id": "116f89fa",
   "metadata": {},
   "outputs": [
    {
     "data": {
      "text/plain": [
       "'are'"
      ]
     },
     "execution_count": 80,
     "metadata": {},
     "output_type": "execute_result"
    }
   ],
   "source": [
    "D2['A'][3]"
   ]
  },
  {
   "cell_type": "code",
   "execution_count": 81,
   "id": "0ffee8b4",
   "metadata": {},
   "outputs": [],
   "source": [
    "K = D2['D']"
   ]
  },
  {
   "cell_type": "code",
   "execution_count": 82,
   "id": "3977d904",
   "metadata": {},
   "outputs": [
    {
     "data": {
      "text/plain": [
       "{23: 'twothree', 'B': 42, 'newKey': 'NewValue'}"
      ]
     },
     "execution_count": 82,
     "metadata": {},
     "output_type": "execute_result"
    }
   ],
   "source": [
    "K"
   ]
  },
  {
   "cell_type": "code",
   "execution_count": 83,
   "id": "7cc319e8",
   "metadata": {},
   "outputs": [
    {
     "name": "stdout",
     "output_type": "stream",
     "text": [
      "23 twothree\n",
      "B 42\n",
      "newKey NewValue\n"
     ]
    }
   ],
   "source": [
    "for x in K:\n",
    "    print(x, K[x])"
   ]
  },
  {
   "cell_type": "code",
   "execution_count": 85,
   "id": "142079b1",
   "metadata": {},
   "outputs": [],
   "source": [
    "L3 = [L, T, D, 23, \"game\"]"
   ]
  },
  {
   "cell_type": "code",
   "execution_count": 86,
   "id": "1d033e60",
   "metadata": {},
   "outputs": [
    {
     "data": {
      "text/plain": [
       "list"
      ]
     },
     "execution_count": 86,
     "metadata": {},
     "output_type": "execute_result"
    }
   ],
   "source": [
    "type(L3)"
   ]
  },
  {
   "cell_type": "code",
   "execution_count": 87,
   "id": "1ddd4b9d",
   "metadata": {},
   "outputs": [
    {
     "data": {
      "text/plain": [
       "dict"
      ]
     },
     "execution_count": 87,
     "metadata": {},
     "output_type": "execute_result"
    }
   ],
   "source": [
    "type(L3[2])"
   ]
  },
  {
   "cell_type": "code",
   "execution_count": 88,
   "id": "8d4743ef",
   "metadata": {},
   "outputs": [],
   "source": [
    "L3 = [x**2 for x in range(10)]"
   ]
  },
  {
   "cell_type": "code",
   "execution_count": 89,
   "id": "eb84422b",
   "metadata": {},
   "outputs": [
    {
     "data": {
      "text/plain": [
       "[0, 1, 4, 9, 16, 25, 36, 49, 64, 81]"
      ]
     },
     "execution_count": 89,
     "metadata": {},
     "output_type": "execute_result"
    }
   ],
   "source": [
    "L3"
   ]
  },
  {
   "cell_type": "code",
   "execution_count": 90,
   "id": "a4c9684c",
   "metadata": {},
   "outputs": [],
   "source": [
    "S3 = {x**2 for x in range(2,20,3)}"
   ]
  },
  {
   "cell_type": "code",
   "execution_count": 91,
   "id": "99f9e2c1",
   "metadata": {},
   "outputs": [
    {
     "name": "stdout",
     "output_type": "stream",
     "text": [
      "{64, 121, 289, 196, 4, 25}\n"
     ]
    }
   ],
   "source": [
    "print(S3)"
   ]
  }
 ],
 "metadata": {
  "kernelspec": {
   "display_name": "Python 3 (ipykernel)",
   "language": "python",
   "name": "python3"
  },
  "language_info": {
   "codemirror_mode": {
    "name": "ipython",
    "version": 3
   },
   "file_extension": ".py",
   "mimetype": "text/x-python",
   "name": "python",
   "nbconvert_exporter": "python",
   "pygments_lexer": "ipython3",
   "version": "3.9.13"
  }
 },
 "nbformat": 4,
 "nbformat_minor": 5
}
