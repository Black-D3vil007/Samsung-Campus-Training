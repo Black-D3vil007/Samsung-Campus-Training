{
 "cells": [
  {
   "cell_type": "markdown",
   "id": "04592901",
   "metadata": {},
   "source": [
    "### lambda argument: expression"
   ]
  },
  {
   "cell_type": "code",
   "execution_count": 4,
   "id": "304da779",
   "metadata": {},
   "outputs": [
    {
     "name": "stdout",
     "output_type": "stream",
     "text": [
      "25\n"
     ]
    }
   ],
   "source": [
    "add10 = lambda x: x+10\n",
    "print(add10(15))"
   ]
  },
  {
   "cell_type": "code",
   "execution_count": 6,
   "id": "20a0e11e",
   "metadata": {},
   "outputs": [
    {
     "name": "stdout",
     "output_type": "stream",
     "text": [
      "48\n"
     ]
    }
   ],
   "source": [
    "mult = lambda x,y: x*y\n",
    "print(mult(8, 6))"
   ]
  },
  {
   "cell_type": "code",
   "execution_count": 9,
   "id": "a371e814",
   "metadata": {},
   "outputs": [
    {
     "name": "stdout",
     "output_type": "stream",
     "text": [
      "[(1, 2), (15, 1), (5, -1), (10, 4)]\n",
      "[(1, 2), (5, -1), (10, 4), (15, 1)]\n"
     ]
    }
   ],
   "source": [
    "points2D = [(1, 2), (15, 1), (5, -1), (10, 4)]\n",
    "point2D_sorted = sorted(points2D)\n",
    "print(points2D)\n",
    "print(point2D_sorted)"
   ]
  },
  {
   "cell_type": "code",
   "execution_count": 14,
   "id": "6f0bb7a2",
   "metadata": {},
   "outputs": [
    {
     "name": "stdout",
     "output_type": "stream",
     "text": [
      "[(1, 2), (15, 1), (5, -1), (10, 4)]\n",
      "[(5, -1), (15, 1), (1, 2), (10, 4)]\n"
     ]
    }
   ],
   "source": [
    "# lambda\n",
    "points2D = [(1, 2), (15, 1), (5, -1), (10, 4)]\n",
    "point2D_sorted = sorted(points2D, key=lambda x:x[1])\n",
    "print(points2D)\n",
    "print(point2D_sorted)"
   ]
  },
  {
   "cell_type": "code",
   "execution_count": 15,
   "id": "77fe9ff0",
   "metadata": {},
   "outputs": [
    {
     "name": "stdout",
     "output_type": "stream",
     "text": [
      "[(1, 2), (15, 1), (5, -1), (10, 4)]\n",
      "[(5, -1), (15, 1), (1, 2), (10, 4)]\n"
     ]
    }
   ],
   "source": [
    "# function \n",
    "def sorted_by_y(x):\n",
    "    return x[1]\n",
    "\n",
    "points2D = [(1, 2), (15, 1), (5, -1), (10, 4)]\n",
    "point2D_sorted = sorted(points2D, key=sorted_by_y)\n",
    "print(points2D)\n",
    "print(point2D_sorted)"
   ]
  },
  {
   "cell_type": "code",
   "execution_count": 16,
   "id": "3fdad99a",
   "metadata": {},
   "outputs": [
    {
     "name": "stdout",
     "output_type": "stream",
     "text": [
      "[(1, 2), (15, 1), (5, -1), (10, 4)]\n",
      "[(1, 2), (5, -1), (10, 4), (15, 1)]\n"
     ]
    }
   ],
   "source": [
    "points2D = [(1, 2), (15, 1), (5, -1), (10, 4)]\n",
    "point2D_sorted = sorted(points2D, key=lambda x:x[0]+x[1])\n",
    "print(points2D)\n",
    "print(point2D_sorted)"
   ]
  },
  {
   "cell_type": "code",
   "execution_count": 18,
   "id": "cd668b9e",
   "metadata": {},
   "outputs": [],
   "source": [
    "# map(func, seq)"
   ]
  },
  {
   "cell_type": "code",
   "execution_count": 21,
   "id": "6c4faeb7",
   "metadata": {},
   "outputs": [
    {
     "name": "stdout",
     "output_type": "stream",
     "text": [
      "[2, 4, 6, 8, 10]\n"
     ]
    }
   ],
   "source": [
    "a = [1, 2, 3, 4, 5]\n",
    "b = map(lambda x: x*2, a)\n",
    "\n",
    "print(list(b))"
   ]
  },
  {
   "cell_type": "code",
   "execution_count": 22,
   "id": "a1017cce",
   "metadata": {},
   "outputs": [
    {
     "name": "stdout",
     "output_type": "stream",
     "text": [
      "[2, 4, 6, 8, 10]\n"
     ]
    }
   ],
   "source": [
    "c = [x*2 for x in a]\n",
    "print(c)"
   ]
  },
  {
   "cell_type": "code",
   "execution_count": 23,
   "id": "40075127",
   "metadata": {},
   "outputs": [],
   "source": [
    "# filter(func, seq)"
   ]
  },
  {
   "cell_type": "code",
   "execution_count": 24,
   "id": "ff956500",
   "metadata": {},
   "outputs": [
    {
     "name": "stdout",
     "output_type": "stream",
     "text": [
      "[2, 4, 6]\n"
     ]
    }
   ],
   "source": [
    "a = [1, 2, 3, 4, 5, 6]\n",
    "b = filter(lambda x: x%2==0, a)\n",
    "print(list(b))"
   ]
  },
  {
   "cell_type": "code",
   "execution_count": 25,
   "id": "285897df",
   "metadata": {},
   "outputs": [
    {
     "name": "stdout",
     "output_type": "stream",
     "text": [
      "[2, 4, 6]\n"
     ]
    }
   ],
   "source": [
    "c = [x for x in a if x%2 == 0]\n",
    "print(c)"
   ]
  },
  {
   "cell_type": "code",
   "execution_count": 26,
   "id": "8d1112d2",
   "metadata": {},
   "outputs": [],
   "source": [
    "# reduce(func, seq)"
   ]
  },
  {
   "cell_type": "code",
   "execution_count": 28,
   "id": "7bcc99d4",
   "metadata": {},
   "outputs": [],
   "source": [
    "from functools import reduce"
   ]
  },
  {
   "cell_type": "code",
   "execution_count": 29,
   "id": "f510b391",
   "metadata": {},
   "outputs": [
    {
     "name": "stdout",
     "output_type": "stream",
     "text": [
      "720\n"
     ]
    }
   ],
   "source": [
    "prod_a = reduce(lambda x, y: x*y, a)\n",
    "print(prod_a)"
   ]
  }
 ],
 "metadata": {
  "kernelspec": {
   "display_name": "Python 3 (ipykernel)",
   "language": "python",
   "name": "python3"
  },
  "language_info": {
   "codemirror_mode": {
    "name": "ipython",
    "version": 3
   },
   "file_extension": ".py",
   "mimetype": "text/x-python",
   "name": "python",
   "nbconvert_exporter": "python",
   "pygments_lexer": "ipython3",
   "version": "3.9.13"
  }
 },
 "nbformat": 4,
 "nbformat_minor": 5
}
