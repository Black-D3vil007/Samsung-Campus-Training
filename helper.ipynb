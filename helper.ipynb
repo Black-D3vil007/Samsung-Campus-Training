{
 "cells": [
  {
   "cell_type": "code",
   "execution_count": null,
   "id": "c727dd27",
   "metadata": {},
   "outputs": [
    {
     "ename": "",
     "evalue": "",
     "output_type": "error",
     "traceback": [
      "\u001b[1;31mThe file 'itertools.py' seems to be overriding built in modules and interfering with the startup of the kernel. Consider renaming the file and starting the kernel again.\n",
      "\u001b[1;31mClick <a href='https://aka.ms/kernelFailuresOverridingBuiltInModules'>here</a> for more info."
     ]
    }
   ],
   "source": [
    "import logging"
   ]
  },
  {
   "cell_type": "code",
   "execution_count": null,
   "id": "60576e33",
   "metadata": {},
   "outputs": [
    {
     "ename": "",
     "evalue": "",
     "output_type": "error",
     "traceback": [
      "\u001b[1;31mThe file 'itertools.py' seems to be overriding built in modules and interfering with the startup of the kernel. Consider renaming the file and starting the kernel again.\n",
      "\u001b[1;31mClick <a href='https://aka.ms/kernelFailuresOverridingBuiltInModules'>here</a> for more info."
     ]
    }
   ],
   "source": [
    "logging.config.fileConfig('logging.conf')\n",
    "\n",
    "logger = logging.getLogger('simpleExample')\n",
    "logger.debug('this is debug message')"
   ]
  },
  {
   "cell_type": "code",
   "execution_count": 4,
   "id": "449c147c",
   "metadata": {},
   "outputs": [],
   "source": [
    "logger = logging.getLogger(__name__)\n",
    "logger.propagate = False\n",
    "logger.info('Hello from helper')"
   ]
  },
  {
   "cell_type": "code",
   "execution_count": 5,
   "id": "ef411c1f",
   "metadata": {},
   "outputs": [],
   "source": [
    "# Create handler\n",
    "\n",
    "stream_h = logging.StreamHandler()\n",
    "file_h = logging.FileHandler('file.log')"
   ]
  },
  {
   "cell_type": "code",
   "execution_count": 6,
   "id": "afdd9c64",
   "metadata": {},
   "outputs": [],
   "source": [
    "# level and the format\n",
    "stream_h.setLevel(logging.WARNING)\n",
    "file_h.setLevel(logging.ERROR)"
   ]
  },
  {
   "cell_type": "code",
   "execution_count": 7,
   "id": "ddf957b2",
   "metadata": {},
   "outputs": [],
   "source": [
    "formatter = logging.Formatter('%(name)s - %(levelname)s - %(message)s')\n",
    "stream_h.setFormatter(formatter)\n",
    "file_h.setFormatter(formatter)"
   ]
  },
  {
   "cell_type": "code",
   "execution_count": 8,
   "id": "785bd335",
   "metadata": {},
   "outputs": [],
   "source": [
    "logger.addHandler(stream_h)\n",
    "logger.addHandler(file_h)"
   ]
  },
  {
   "cell_type": "code",
   "execution_count": 9,
   "id": "e459950f",
   "metadata": {},
   "outputs": [
    {
     "name": "stderr",
     "output_type": "stream",
     "text": [
      "__main__ - WARNING - this is a warning\n",
      "__main__ - ERROR - this is an error\n"
     ]
    }
   ],
   "source": [
    "logger.warning('this is a warning')\n",
    "logger.error('this is an error')"
   ]
  }
 ],
 "metadata": {
  "kernelspec": {
   "display_name": "Python 3 (ipykernel)",
   "language": "python",
   "name": "python3"
  },
  "language_info": {
   "codemirror_mode": {
    "name": "ipython",
    "version": 3
   },
   "file_extension": ".py",
   "mimetype": "text/x-python",
   "name": "python",
   "nbconvert_exporter": "python",
   "pygments_lexer": "ipython3",
   "version": "3.9.13"
  }
 },
 "nbformat": 4,
 "nbformat_minor": 5
}
