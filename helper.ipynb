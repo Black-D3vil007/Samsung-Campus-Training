{
 "cells": [
  {
   "cell_type": "code",
   "execution_count": 1,
   "id": "dd0d1b06",
   "metadata": {},
   "outputs": [],
   "source": [
    "import logging"
   ]
  },
  {
   "cell_type": "code",
   "execution_count": 4,
   "id": "7ef22414",
   "metadata": {},
   "outputs": [],
   "source": [
    "logger = logging.getLogger(__name__)\n",
    "logger.propagate = False\n",
    "logger.info('Hello from helper')"
   ]
  },
  {
   "cell_type": "code",
   "execution_count": 5,
   "id": "1b1e1680",
   "metadata": {},
   "outputs": [],
   "source": [
    "# Create handler\n",
    "\n",
    "stream_h = logging.StreamHandler()\n",
    "file_h = logging.FileHandler('file.log')"
   ]
  },
  {
   "cell_type": "code",
   "execution_count": 6,
   "id": "30c1b49c",
   "metadata": {},
   "outputs": [],
   "source": [
    "# level and the format\n",
    "stream_h.setLevel(logging.WARNING)\n",
    "file_h.setLevel(logging.ERROR)"
   ]
  },
  {
   "cell_type": "code",
   "execution_count": 7,
   "id": "bc1ac578",
   "metadata": {},
   "outputs": [],
   "source": [
    "formatter = logging.Formatter('%(name)s - %(levelname)s - %(message)s')\n",
    "stream_h.setFormatter(formatter)\n",
    "file_h.setFormatter(formatter)"
   ]
  },
  {
   "cell_type": "code",
   "execution_count": 8,
   "id": "5b77850c",
   "metadata": {},
   "outputs": [],
   "source": [
    "logger.addHandler(stream_h)\n",
    "logger.addHandler(file_h)"
   ]
  },
  {
   "cell_type": "code",
   "execution_count": 9,
   "id": "14e38460",
   "metadata": {},
   "outputs": [
    {
     "name": "stderr",
     "output_type": "stream",
     "text": [
      "__main__ - WARNING - this is a warning\n",
      "__main__ - ERROR - this is an error\n"
     ]
    }
   ],
   "source": [
    "logger.warning('this is a warning')\n",
    "logger.error('this is an error')"
   ]
  }
 ],
 "metadata": {
  "kernelspec": {
   "display_name": "Python 3 (ipykernel)",
   "language": "python",
   "name": "python3"
  },
  "language_info": {
   "codemirror_mode": {
    "name": "ipython",
    "version": 3
   },
   "file_extension": ".py",
   "mimetype": "text/x-python",
   "name": "python",
   "nbconvert_exporter": "python",
   "pygments_lexer": "ipython3",
   "version": "3.9.13"
  }
 },
 "nbformat": 4,
 "nbformat_minor": 5
}
