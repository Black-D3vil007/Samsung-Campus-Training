{
 "cells": [
  {
   "cell_type": "markdown",
   "id": "b98d82da",
   "metadata": {},
   "source": [
    "## collections: Counter, namedtyple, OrderedDict, defaultdict, deque"
   ]
  },
  {
   "cell_type": "code",
   "execution_count": 1,
   "id": "078f3ee7",
   "metadata": {},
   "outputs": [],
   "source": [
    "from collections import Counter"
   ]
  },
  {
   "cell_type": "code",
   "execution_count": 2,
   "id": "5aa619b8",
   "metadata": {},
   "outputs": [
    {
     "name": "stdout",
     "output_type": "stream",
     "text": [
      "Counter({'b': 8, 'a': 7, 'c': 4})\n"
     ]
    }
   ],
   "source": [
    "a = \"aaaaaaabbbbbbbbcccc\"\n",
    "my_counter = Counter(a)\n",
    "print(my_counter)"
   ]
  },
  {
   "cell_type": "code",
   "execution_count": 3,
   "id": "2ae2890d",
   "metadata": {},
   "outputs": [
    {
     "name": "stdout",
     "output_type": "stream",
     "text": [
      "dict_items([('a', 7), ('b', 8), ('c', 4)])\n"
     ]
    }
   ],
   "source": [
    "print(my_counter.items())"
   ]
  },
  {
   "cell_type": "code",
   "execution_count": 4,
   "id": "4d2e100d",
   "metadata": {},
   "outputs": [
    {
     "name": "stdout",
     "output_type": "stream",
     "text": [
      "dict_keys(['a', 'b', 'c'])\n"
     ]
    }
   ],
   "source": [
    "print(my_counter.keys())"
   ]
  },
  {
   "cell_type": "code",
   "execution_count": 5,
   "id": "982319d7",
   "metadata": {
    "scrolled": true
   },
   "outputs": [
    {
     "name": "stdout",
     "output_type": "stream",
     "text": [
      "dict_values([7, 8, 4])\n"
     ]
    }
   ],
   "source": [
    "print(my_counter.values())"
   ]
  },
  {
   "cell_type": "code",
   "execution_count": 8,
   "id": "8e6bb03e",
   "metadata": {},
   "outputs": [
    {
     "name": "stdout",
     "output_type": "stream",
     "text": [
      "[('b', 8)]\n"
     ]
    }
   ],
   "source": [
    "print(my_counter.most_common(1))"
   ]
  },
  {
   "cell_type": "code",
   "execution_count": 9,
   "id": "6e29e773",
   "metadata": {},
   "outputs": [
    {
     "name": "stdout",
     "output_type": "stream",
     "text": [
      "[('b', 8), ('a', 7)]\n"
     ]
    }
   ],
   "source": [
    "print(my_counter.most_common(2))"
   ]
  },
  {
   "cell_type": "code",
   "execution_count": 10,
   "id": "6465fe65",
   "metadata": {
    "scrolled": true
   },
   "outputs": [
    {
     "name": "stdout",
     "output_type": "stream",
     "text": [
      "b\n"
     ]
    }
   ],
   "source": [
    "print(my_counter.most_common(1)[0][0])"
   ]
  },
  {
   "cell_type": "code",
   "execution_count": 11,
   "id": "edab2f91",
   "metadata": {},
   "outputs": [
    {
     "name": "stdout",
     "output_type": "stream",
     "text": [
      "['a', 'a', 'a', 'a', 'a', 'a', 'a', 'b', 'b', 'b', 'b', 'b', 'b', 'b', 'b', 'c', 'c', 'c', 'c']\n"
     ]
    }
   ],
   "source": [
    "print(list(my_counter.elements()))"
   ]
  },
  {
   "cell_type": "code",
   "execution_count": 12,
   "id": "1f42e050",
   "metadata": {},
   "outputs": [],
   "source": [
    "from collections import namedtuple"
   ]
  },
  {
   "cell_type": "code",
   "execution_count": 13,
   "id": "6408b27b",
   "metadata": {},
   "outputs": [
    {
     "name": "stdout",
     "output_type": "stream",
     "text": [
      "Point(x=1, y=-4)\n"
     ]
    }
   ],
   "source": [
    "Point = namedtuple('Point', 'x, y')\n",
    "pt = Point(1, -4)\n",
    "print(pt)"
   ]
  },
  {
   "cell_type": "code",
   "execution_count": 15,
   "id": "f2e29140",
   "metadata": {},
   "outputs": [
    {
     "name": "stdout",
     "output_type": "stream",
     "text": [
      "1 -4\n"
     ]
    }
   ],
   "source": [
    "print(pt.x, pt.y)"
   ]
  },
  {
   "cell_type": "code",
   "execution_count": 16,
   "id": "74704d53",
   "metadata": {},
   "outputs": [],
   "source": [
    "from collections import OrderedDict"
   ]
  },
  {
   "cell_type": "code",
   "execution_count": 19,
   "id": "a7d22038",
   "metadata": {},
   "outputs": [
    {
     "name": "stdout",
     "output_type": "stream",
     "text": [
      "OrderedDict([('a', 1), ('e', 5), ('b', 2), ('c', 3), ('d', 4)])\n"
     ]
    }
   ],
   "source": [
    "ordered_dict = OrderedDict()\n",
    "ordered_dict['a'] = 1\n",
    "ordered_dict['e'] = 5\n",
    "ordered_dict['b'] = 2\n",
    "ordered_dict['c'] = 3\n",
    "ordered_dict['d'] = 4\n",
    "print(ordered_dict)"
   ]
  },
  {
   "cell_type": "code",
   "execution_count": 20,
   "id": "465a2f3e",
   "metadata": {},
   "outputs": [],
   "source": [
    "from collections import defaultdict"
   ]
  },
  {
   "cell_type": "code",
   "execution_count": 26,
   "id": "181067c0",
   "metadata": {},
   "outputs": [
    {
     "name": "stdout",
     "output_type": "stream",
     "text": [
      "1\n",
      "2\n",
      "[]\n"
     ]
    }
   ],
   "source": [
    "d = defaultdict(list) # int, float, list\n",
    "d['a'] = 1\n",
    "d['b'] = 2\n",
    "print(d['a'])\n",
    "print(d['b'])\n",
    "print(d['c'])"
   ]
  },
  {
   "cell_type": "code",
   "execution_count": 27,
   "id": "c74db3d5",
   "metadata": {},
   "outputs": [],
   "source": [
    "from collections import deque"
   ]
  },
  {
   "cell_type": "code",
   "execution_count": 37,
   "id": "955e4e2e",
   "metadata": {},
   "outputs": [
    {
     "name": "stdout",
     "output_type": "stream",
     "text": [
      "deque([4, 1, 2, 3])\n",
      "3\n",
      "4\n",
      "deque([1, 2])\n",
      "deque([1, 2, 4, 5, 6])\n",
      "deque([9, 8, 7, 1, 2, 4, 5, 6])\n",
      "deque([6, 9, 8, 7, 1, 2, 4, 5])\n"
     ]
    }
   ],
   "source": [
    "d = deque()\n",
    "\n",
    "d.append(1)\n",
    "d.append(2)\n",
    "d.append(3)\n",
    "d.appendleft(4)\n",
    "print(d)\n",
    "print(d.pop())\n",
    "print(d.popleft())\n",
    "print(d)\n",
    "d.extend([4 ,5 ,6])\n",
    "print(d)\n",
    "d.extendleft([7, 8, 9])\n",
    "print(d)\n",
    "d.rotate(1)\n",
    "print(d)"
   ]
  },
  {
   "cell_type": "code",
   "execution_count": 39,
   "id": "419d85e5",
   "metadata": {},
   "outputs": [
    {
     "name": "stdout",
     "output_type": "stream",
     "text": [
      "deque([8, 7, 1, 2, 4, 5, 6, 9])\n"
     ]
    }
   ],
   "source": [
    "d.rotate(-1)\n",
    "print(d)"
   ]
  }
 ],
 "metadata": {
  "kernelspec": {
   "display_name": "Python 3 (ipykernel)",
   "language": "python",
   "name": "python3"
  },
  "language_info": {
   "codemirror_mode": {
    "name": "ipython",
    "version": 3
   },
   "file_extension": ".py",
   "mimetype": "text/x-python",
   "name": "python",
   "nbconvert_exporter": "python",
   "pygments_lexer": "ipython3",
   "version": "3.9.13"
  }
 },
 "nbformat": 4,
 "nbformat_minor": 5
}
