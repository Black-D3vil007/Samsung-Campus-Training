{
 "cells": [
  {
   "cell_type": "code",
   "execution_count": 1,
   "id": "a9e58104",
   "metadata": {},
   "outputs": [
    {
     "name": "stdout",
     "output_type": "stream",
     "text": [
      "10\n",
      "1\n",
      "This is iteration number:  1\n",
      "4\n",
      "This is iteration number:  2\n",
      "9\n",
      "This is iteration number:  3\n",
      "16\n",
      "This is iteration number:  4\n",
      "25\n",
      "This is iteration number:  5\n",
      "36\n",
      "This is iteration number:  6\n",
      "49\n",
      "This is iteration number:  7\n",
      "64\n",
      "This is iteration number:  8\n",
      "81\n",
      "This is iteration number:  9\n",
      "100\n",
      "This is iteration number:  10\n",
      "Loop Done\n"
     ]
    }
   ],
   "source": [
    "n = int(input())\n",
    "i = 1\n",
    "while (i <= n):\n",
    "    print(i**2)\n",
    "    print(\"This is iteration number: \", i)\n",
    "    i += 1\n",
    "print(\"Loop Done\")"
   ]
  },
  {
   "cell_type": "code",
   "execution_count": 2,
   "id": "5f3f4e6e",
   "metadata": {},
   "outputs": [
    {
     "name": "stdout",
     "output_type": "stream",
     "text": [
      "Max iteration : 10\n",
      "2\n",
      "4\n",
      "6\n",
      "8\n",
      "Done\n"
     ]
    }
   ],
   "source": [
    "n = int(input(\"Max iteration : \"))\n",
    "i = 1\n",
    "while i < n:\n",
    "    if i%2 == 0:\n",
    "        print(i)\n",
    "    else:\n",
    "        pass\n",
    "    i += 1\n",
    "print(\"Done\")"
   ]
  },
  {
   "cell_type": "code",
   "execution_count": 2,
   "id": "8d897aa9",
   "metadata": {
    "slideshow": {
     "slide_type": "fragment"
    }
   },
   "outputs": [
    {
     "name": "stdout",
     "output_type": "stream",
     "text": [
      "Inside else:  2\n",
      "Inside else:  3\n",
      "Inside else:  4\n",
      "Inside else:  5\n",
      "Inside else:  6\n",
      "Inside else:  7\n",
      "Inside else:  8\n",
      "Inside else:  9\n",
      "Inside If:  10\n",
      "done\n"
     ]
    }
   ],
   "source": [
    "n = 10\n",
    "i = 1\n",
    "while True:\n",
    "    if i%9 == 0:\n",
    "        print(\"Inside If: \", i+1)\n",
    "        break\n",
    "    else:\n",
    "        print(\"Inside else: \", i+1)\n",
    "        i = i+1\n",
    "print(\"done\")"
   ]
  },
  {
   "cell_type": "code",
   "execution_count": null,
   "id": "8f7c2478",
   "metadata": {
    "slideshow": {
     "slide_type": "slide"
    }
   },
   "outputs": [
    {
     "name": "stdout",
     "output_type": "stream",
     "text": [
      "Inside If:  2\n",
      "Inside If:  3\n",
      "Inside If:  4\n",
      "Inside If:  5\n",
      "Inside If:  6\n",
      "Inside If:  7\n",
      "Inside If:  8\n",
      "Inside If:  9\n"
     ]
    }
   ],
   "source": [
    "n = 10\n",
    "i = 1\n",
    "while True:\n",
    "    if i%9 != 0:\n",
    "        print(\"Inside If: \", i+1)\n",
    "        i += 1\n",
    "        continue\n",
    "        print(\"This is not printed\")\n",
    "        break\n",
    "print(\"done\")"
   ]
  },
  {
   "cell_type": "code",
   "execution_count": 1,
   "id": "69d27910",
   "metadata": {
    "slideshow": {
     "slide_type": "-"
    }
   },
   "outputs": [
    {
     "name": "stdout",
     "output_type": "stream",
     "text": [
      "1\n",
      "3\n",
      "5\n",
      "7\n",
      "9\n",
      "[0, 4, 16, 36, 64]\n"
     ]
    }
   ],
   "source": [
    "L = []\n",
    "for i in range(0,10,2):\n",
    "    print(i+1)\n",
    "    L.append(i**2)\n",
    "print(L)"
   ]
  },
  {
   "cell_type": "code",
   "execution_count": 5,
   "id": "d8702e38",
   "metadata": {},
   "outputs": [
    {
     "name": "stdout",
     "output_type": "stream",
     "text": [
      "apple\n",
      "4.9\n",
      "Outside the Loop\n"
     ]
    }
   ],
   "source": [
    "s = {\"apple\", 4.9, \"cherry\"}\n",
    "i = 1\n",
    "for x in s:\n",
    "    print(x)\n",
    "    i += 1\n",
    "    if i == 3:\n",
    "        break\n",
    "    else:\n",
    "        pass\n",
    "else:\n",
    "    print(\"Loop terminates with success\")\n",
    "print(\"Outside the Loop\")"
   ]
  },
  {
   "cell_type": "code",
   "execution_count": 10,
   "id": "9790e7ec",
   "metadata": {},
   "outputs": [
    {
     "name": "stdout",
     "output_type": "stream",
     "text": [
      "A : 10\n",
      "B : -19\n",
      "C : abc\n"
     ]
    }
   ],
   "source": [
    "D = {\"A\":10, \"B\":-19, \"C\":\"abc\"}\n",
    "for x in D:\n",
    "    print(x, \":\", D[x])"
   ]
  },
  {
   "cell_type": "code",
   "execution_count": null,
   "id": "9c0d51d2",
   "metadata": {},
   "outputs": [],
   "source": []
  }
 ],
 "metadata": {
  "kernelspec": {
   "display_name": "Python 3 (ipykernel)",
   "language": "python",
   "name": "python3"
  },
  "language_info": {
   "codemirror_mode": {
    "name": "ipython",
    "version": 3
   },
   "file_extension": ".py",
   "mimetype": "text/x-python",
   "name": "python",
   "nbconvert_exporter": "python",
   "pygments_lexer": "ipython3",
   "version": "3.9.13"
  }
 },
 "nbformat": 4,
 "nbformat_minor": 5
}
