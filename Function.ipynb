{
 "cells": [
  {
   "cell_type": "code",
   "execution_count": 1,
   "id": "9cbe3f0c",
   "metadata": {},
   "outputs": [],
   "source": [
    "def printSuccess():\n",
    "    print(\"I am done\")\n",
    "    print(\"Send me new task\")"
   ]
  },
  {
   "cell_type": "code",
   "execution_count": 2,
   "id": "f086366d",
   "metadata": {},
   "outputs": [
    {
     "name": "stdout",
     "output_type": "stream",
     "text": [
      "I am done\n",
      "Send me new task\n"
     ]
    }
   ],
   "source": [
    "printSuccess()"
   ]
  },
  {
   "cell_type": "code",
   "execution_count": 3,
   "id": "29191e17",
   "metadata": {},
   "outputs": [],
   "source": [
    "def PrintSuccess2():\n",
    "    \"\"\" This function is doing nothing except printing a message.\n",
    "    That message is Hello\n",
    "    \"\"\"\n",
    "    print(\"Hello\")"
   ]
  },
  {
   "cell_type": "code",
   "execution_count": 4,
   "id": "26585ab8",
   "metadata": {},
   "outputs": [
    {
     "name": "stdout",
     "output_type": "stream",
     "text": [
      "Hello\n"
     ]
    }
   ],
   "source": [
    "PrintSuccess2()"
   ]
  },
  {
   "cell_type": "code",
   "execution_count": 16,
   "id": "53fe4d2e",
   "metadata": {},
   "outputs": [],
   "source": [
    "msg = \"Hello World\"\n",
    "def printMessage(msg):\n",
    "    print(msg)"
   ]
  },
  {
   "cell_type": "code",
   "execution_count": 18,
   "id": "7884a677",
   "metadata": {},
   "outputs": [
    {
     "name": "stdout",
     "output_type": "stream",
     "text": [
      "Hello World\n"
     ]
    }
   ],
   "source": [
    "printMessage(msg)"
   ]
  },
  {
   "cell_type": "code",
   "execution_count": 23,
   "id": "e5a74ea1",
   "metadata": {},
   "outputs": [],
   "source": [
    "def printMsg(msg):\n",
    "    \"\"\"The fxn print the message supplied by the user \n",
    "    or prints that msg is not in the form of string\"\"\"\n",
    "    if isinstance(msg, str):\n",
    "        print(msg)\n",
    "    else:\n",
    "        print(\"Your input message is not string\")\n",
    "        print(\"Here is what you have supplied\", msg)\n",
    "        print(type(msg))"
   ]
  },
  {
   "cell_type": "code",
   "execution_count": 20,
   "id": "7a8dd731",
   "metadata": {},
   "outputs": [
    {
     "name": "stdout",
     "output_type": "stream",
     "text": [
      "Help on function printMsg in module __main__:\n",
      "\n",
      "printMsg(msg)\n",
      "    The fxn print the message supplied by the user \n",
      "    or prints that msg is not in the form of string\n",
      "\n"
     ]
    }
   ],
   "source": [
    "help(printMsg)"
   ]
  },
  {
   "cell_type": "code",
   "execution_count": 24,
   "id": "52aafa6a",
   "metadata": {},
   "outputs": [
    {
     "name": "stdout",
     "output_type": "stream",
     "text": [
      "This is the message\n"
     ]
    }
   ],
   "source": [
    "printMsg(\"This is the message\")"
   ]
  },
  {
   "cell_type": "code",
   "execution_count": 25,
   "id": "c80192f3",
   "metadata": {},
   "outputs": [],
   "source": [
    "printMsg??"
   ]
  },
  {
   "cell_type": "code",
   "execution_count": 26,
   "id": "f9b83704",
   "metadata": {},
   "outputs": [
    {
     "name": "stdout",
     "output_type": "stream",
     "text": [
      "Hello there\n"
     ]
    }
   ],
   "source": [
    "y = \"Hello there\"\n",
    "printMsg(y)"
   ]
  },
  {
   "cell_type": "code",
   "execution_count": 27,
   "id": "f9496767",
   "metadata": {},
   "outputs": [],
   "source": [
    "def myPow(a, b):\n",
    "    \"\"\"This function compute power just like builtin power function\"\"\"\n",
    "    c = a**b\n",
    "    print(c)"
   ]
  },
  {
   "cell_type": "code",
   "execution_count": 29,
   "id": "dd7217b1",
   "metadata": {},
   "outputs": [],
   "source": [
    "myPow?"
   ]
  },
  {
   "cell_type": "code",
   "execution_count": 30,
   "id": "a072b7f6",
   "metadata": {},
   "outputs": [
    {
     "name": "stdout",
     "output_type": "stream",
     "text": [
      "81\n"
     ]
    }
   ],
   "source": [
    "myPow(3, 4)"
   ]
  },
  {
   "cell_type": "code",
   "execution_count": 34,
   "id": "86fea1c2",
   "metadata": {},
   "outputs": [],
   "source": [
    "def checkArgs(a, b, c):\n",
    "    \"\"\"Check Arguments\"\"\"\n",
    "    if isinstance(a,(int, float)) and isinstance(b,(int, float)) and isinstance(c, (int, float)):\n",
    "        print((a+b+c)**2)\n",
    "    else:\n",
    "        print(\"Error: the input argumnets are not the expexted types\")"
   ]
  },
  {
   "cell_type": "code",
   "execution_count": 35,
   "id": "244451fd",
   "metadata": {},
   "outputs": [
    {
     "name": "stdout",
     "output_type": "stream",
     "text": [
      "81\n"
     ]
    }
   ],
   "source": [
    "checkArgs(2,3,4)"
   ]
  },
  {
   "cell_type": "code",
   "execution_count": 36,
   "id": "ee1c0701",
   "metadata": {},
   "outputs": [
    {
     "name": "stdout",
     "output_type": "stream",
     "text": [
      "Error: the input argumnets are not the expexted types\n"
     ]
    }
   ],
   "source": [
    "checkArgs(2, 3, \"a\")"
   ]
  },
  {
   "cell_type": "code",
   "execution_count": 37,
   "id": "e6439aa8",
   "metadata": {},
   "outputs": [],
   "source": [
    "def f(a, b, c):\n",
    "    print(\"A is :\", a)\n",
    "    print(\"B is :\", b)\n",
    "    print(\"C is :\", c)    "
   ]
  },
  {
   "cell_type": "code",
   "execution_count": 39,
   "id": "eb4529da",
   "metadata": {},
   "outputs": [
    {
     "name": "stdout",
     "output_type": "stream",
     "text": [
      "A is : 1\n",
      "B is : game\n",
      "C is : 3\n"
     ]
    }
   ],
   "source": [
    "f(1,\"game\",3)"
   ]
  },
  {
   "cell_type": "code",
   "execution_count": 52,
   "id": "5275eeba",
   "metadata": {},
   "outputs": [],
   "source": [
    "def add(x,y):\n",
    "    return x+y"
   ]
  },
  {
   "cell_type": "code",
   "execution_count": 53,
   "id": "c23ebb1b",
   "metadata": {},
   "outputs": [
    {
     "name": "stdout",
     "output_type": "stream",
     "text": [
      "25\n"
     ]
    }
   ],
   "source": [
    "print(add(15,10))"
   ]
  },
  {
   "cell_type": "code",
   "execution_count": 54,
   "id": "bc1708a7",
   "metadata": {},
   "outputs": [
    {
     "name": "stdout",
     "output_type": "stream",
     "text": [
      "9\n"
     ]
    }
   ],
   "source": [
    "res = add(5,4)\n",
    "print(res)"
   ]
  },
  {
   "cell_type": "code",
   "execution_count": 56,
   "id": "1d4982e3",
   "metadata": {},
   "outputs": [],
   "source": [
    "def h():\n",
    "    print(\"A\")\n",
    "    a = 3\n",
    "    b = 5\n",
    "    c = a+b\n",
    "    print(\"Something\")\n",
    "    return\n",
    "    print(\"B\")\n",
    "    print(\"C\")"
   ]
  },
  {
   "cell_type": "code",
   "execution_count": 57,
   "id": "efdb6fd6",
   "metadata": {},
   "outputs": [
    {
     "name": "stdout",
     "output_type": "stream",
     "text": [
      "A\n",
      "Something\n"
     ]
    }
   ],
   "source": [
    "h()"
   ]
  },
  {
   "cell_type": "code",
   "execution_count": 58,
   "id": "91f01a5b",
   "metadata": {},
   "outputs": [
    {
     "name": "stdout",
     "output_type": "stream",
     "text": [
      "A\n",
      "Something\n",
      "None\n"
     ]
    }
   ],
   "source": [
    "print(h())"
   ]
  },
  {
   "cell_type": "code",
   "execution_count": 59,
   "id": "eb6dcbfe",
   "metadata": {},
   "outputs": [],
   "source": [
    "def r():\n",
    "    a = 6\n",
    "    b = 5\n",
    "    d = \"Hello\"\n",
    "    return a,b,d"
   ]
  },
  {
   "cell_type": "code",
   "execution_count": 60,
   "id": "19f31e43",
   "metadata": {},
   "outputs": [],
   "source": [
    "x,y,z = r()"
   ]
  },
  {
   "cell_type": "code",
   "execution_count": 62,
   "id": "48d316e1",
   "metadata": {},
   "outputs": [
    {
     "name": "stdout",
     "output_type": "stream",
     "text": [
      "6\n",
      "5\n",
      "Hello\n"
     ]
    }
   ],
   "source": [
    "print(x)\n",
    "print(y)\n",
    "print(z)"
   ]
  },
  {
   "cell_type": "code",
   "execution_count": 63,
   "id": "582c4e88",
   "metadata": {},
   "outputs": [],
   "source": [
    "def myAddUniversal(*args):\n",
    "    s = 0\n",
    "    for i in range(len(args)):\n",
    "        s += args[i]\n",
    "    return s"
   ]
  },
  {
   "cell_type": "code",
   "execution_count": 65,
   "id": "10a4aba3",
   "metadata": {},
   "outputs": [
    {
     "name": "stdout",
     "output_type": "stream",
     "text": [
      "54\n"
     ]
    }
   ],
   "source": [
    "print(myAddUniversal(2, 4, 5, 11, 12, 20))"
   ]
  },
  {
   "cell_type": "code",
   "execution_count": 66,
   "id": "9101acb5",
   "metadata": {},
   "outputs": [],
   "source": [
    "def printAllVariableNamesAndValues(**args):\n",
    "    for x in args:\n",
    "        print(\"Variable Name is :\", x, \"And Value is :\",args[x])"
   ]
  },
  {
   "cell_type": "code",
   "execution_count": 67,
   "id": "da70c50f",
   "metadata": {},
   "outputs": [
    {
     "name": "stdout",
     "output_type": "stream",
     "text": [
      "Variable Name is : a And Value is : 3\n",
      "Variable Name is : b And Value is : B\n",
      "Variable Name is : c And Value is : CCC\n",
      "Variable Name is : y And Value is : 6.7\n"
     ]
    }
   ],
   "source": [
    "printAllVariableNamesAndValues(a = 3, b = \"B\" , c = \"CCC\", y = 6.7)"
   ]
  },
  {
   "cell_type": "code",
   "execution_count": 68,
   "id": "bafc6179",
   "metadata": {},
   "outputs": [
    {
     "name": "stdout",
     "output_type": "stream",
     "text": [
      "0\n"
     ]
    }
   ],
   "source": [
    "def f(sum = 0):\n",
    "    print(sum)\n",
    "f()"
   ]
  },
  {
   "cell_type": "code",
   "execution_count": 69,
   "id": "1cf487ff",
   "metadata": {},
   "outputs": [],
   "source": [
    "def gg(s=4):\n",
    "    print(s)"
   ]
  },
  {
   "cell_type": "code",
   "execution_count": 70,
   "id": "0bbd1de2",
   "metadata": {},
   "outputs": [
    {
     "name": "stdout",
     "output_type": "stream",
     "text": [
      "4\n"
     ]
    }
   ],
   "source": [
    "gg()"
   ]
  },
  {
   "cell_type": "code",
   "execution_count": 72,
   "id": "45ebf95f",
   "metadata": {},
   "outputs": [
    {
     "name": "stdout",
     "output_type": "stream",
     "text": [
      "24\n"
     ]
    }
   ],
   "source": [
    "gg(24)"
   ]
  },
  {
   "cell_type": "code",
   "execution_count": 73,
   "id": "e12a4961",
   "metadata": {},
   "outputs": [
    {
     "name": "stdout",
     "output_type": "stream",
     "text": [
      "[-12, 2, 3]\n",
      "[-12, 2, 3]\n"
     ]
    }
   ],
   "source": [
    "L = [1, 2, 3]\n",
    "L2 = L\n",
    "L2[0] = -12\n",
    "print(L)\n",
    "print(L2)"
   ]
  },
  {
   "cell_type": "code",
   "execution_count": 74,
   "id": "872e051f",
   "metadata": {},
   "outputs": [],
   "source": [
    "def ff(L=[1,2,3,4,5]):\n",
    "    for i in L:\n",
    "        print(i)"
   ]
  },
  {
   "cell_type": "code",
   "execution_count": 75,
   "id": "a056c792",
   "metadata": {},
   "outputs": [
    {
     "name": "stdout",
     "output_type": "stream",
     "text": [
      "1\n",
      "2\n",
      "3\n",
      "4\n",
      "5\n"
     ]
    }
   ],
   "source": [
    "ff()"
   ]
  },
  {
   "cell_type": "code",
   "execution_count": 76,
   "id": "2cacc5f4",
   "metadata": {},
   "outputs": [
    {
     "name": "stdout",
     "output_type": "stream",
     "text": [
      "12\n",
      "14\n",
      "16\n",
      "18\n"
     ]
    }
   ],
   "source": [
    "L2 = [12, 14, 16, 18]\n",
    "ff(L2)"
   ]
  },
  {
   "cell_type": "code",
   "execution_count": 77,
   "id": "7b3ec8d7",
   "metadata": {},
   "outputs": [
    {
     "name": "stdout",
     "output_type": "stream",
     "text": [
      "1\n",
      "2\n",
      "3\n",
      "4\n",
      "5\n"
     ]
    }
   ],
   "source": [
    "ff()"
   ]
  },
  {
   "cell_type": "code",
   "execution_count": null,
   "id": "32793e22",
   "metadata": {},
   "outputs": [],
   "source": []
  }
 ],
 "metadata": {
  "kernelspec": {
   "display_name": "Python 3 (ipykernel)",
   "language": "python",
   "name": "python3"
  },
  "language_info": {
   "codemirror_mode": {
    "name": "ipython",
    "version": 3
   },
   "file_extension": ".py",
   "mimetype": "text/x-python",
   "name": "python",
   "nbconvert_exporter": "python",
   "pygments_lexer": "ipython3",
   "version": "3.9.13"
  }
 },
 "nbformat": 4,
 "nbformat_minor": 5
}
