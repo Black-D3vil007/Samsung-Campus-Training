{
 "cells": [
  {
   "cell_type": "code",
   "execution_count": 2,
   "id": "03e78f1c",
   "metadata": {},
   "outputs": [],
   "source": [
    "import numpy as np"
   ]
  },
  {
   "cell_type": "code",
   "execution_count": 9,
   "id": "49a0d91c",
   "metadata": {},
   "outputs": [],
   "source": [
    "a = np.array([1, 2, 3, 4, 5, 6], dtype='i')"
   ]
  },
  {
   "cell_type": "code",
   "execution_count": 8,
   "id": "eb0e68b5",
   "metadata": {},
   "outputs": [],
   "source": [
    "b = np.array([1, 2, 3],dtype='f')"
   ]
  },
  {
   "cell_type": "code",
   "execution_count": 5,
   "id": "8899980e",
   "metadata": {},
   "outputs": [
    {
     "name": "stdout",
     "output_type": "stream",
     "text": [
      "[1 2 3 4 5 6]\n"
     ]
    }
   ],
   "source": [
    "print(a)"
   ]
  },
  {
   "cell_type": "code",
   "execution_count": 6,
   "id": "c503f2a2",
   "metadata": {},
   "outputs": [
    {
     "data": {
      "text/plain": [
       "numpy.ndarray"
      ]
     },
     "execution_count": 6,
     "metadata": {},
     "output_type": "execute_result"
    }
   ],
   "source": [
    "type(a)"
   ]
  },
  {
   "cell_type": "code",
   "execution_count": 7,
   "id": "d58dace4",
   "metadata": {},
   "outputs": [
    {
     "data": {
      "text/plain": [
       "dtype('int64')"
      ]
     },
     "execution_count": 7,
     "metadata": {},
     "output_type": "execute_result"
    }
   ],
   "source": [
    "a.dtype"
   ]
  },
  {
   "cell_type": "code",
   "execution_count": 10,
   "id": "f86e89a5",
   "metadata": {},
   "outputs": [
    {
     "name": "stdout",
     "output_type": "stream",
     "text": [
      "[1. 2. 3.]\n"
     ]
    }
   ],
   "source": [
    "print(b)"
   ]
  },
  {
   "cell_type": "code",
   "execution_count": 14,
   "id": "add96d2b",
   "metadata": {},
   "outputs": [
    {
     "name": "stdout",
     "output_type": "stream",
     "text": [
      "2\n"
     ]
    }
   ],
   "source": [
    "a = np.array([[1, 2, 3], [4, 5, 6]])\n",
    "print(a.ndim)"
   ]
  },
  {
   "cell_type": "code",
   "execution_count": 15,
   "id": "db8d7082",
   "metadata": {},
   "outputs": [
    {
     "name": "stdout",
     "output_type": "stream",
     "text": [
      "[[1 2 3]\n",
      " [4 5 6]]\n"
     ]
    }
   ],
   "source": [
    "print(a)"
   ]
  },
  {
   "cell_type": "code",
   "execution_count": 18,
   "id": "8fd6a4ad",
   "metadata": {},
   "outputs": [
    {
     "name": "stdout",
     "output_type": "stream",
     "text": [
      "3\n"
     ]
    }
   ],
   "source": [
    "    b = np.array([[[1, 2, 3], [4, 5, 6]], [[1, 2, 3], [4, 5, 6]]])\n",
    "print(b.ndim)"
   ]
  },
  {
   "cell_type": "code",
   "execution_count": 19,
   "id": "ab5c0d00",
   "metadata": {},
   "outputs": [
    {
     "name": "stdout",
     "output_type": "stream",
     "text": [
      "[[[1 2 3]\n",
      "  [4 5 6]]\n",
      "\n",
      " [[1 2 3]\n",
      "  [4 5 6]]]\n"
     ]
    }
   ],
   "source": [
    "print(b)"
   ]
  },
  {
   "cell_type": "code",
   "execution_count": 20,
   "id": "72a0ce94",
   "metadata": {},
   "outputs": [
    {
     "name": "stdout",
     "output_type": "stream",
     "text": [
      "3\n"
     ]
    }
   ],
   "source": [
    "print(b[1, 0, 2])"
   ]
  },
  {
   "cell_type": "code",
   "execution_count": 25,
   "id": "ead85cf5",
   "metadata": {},
   "outputs": [],
   "source": [
    "c = np.array([[[1, 2, 3],[4, 5, 6],[0, 0, -1]], [[5, 2, -3],[4, -5, -6],[0, 0, -1]]])"
   ]
  },
  {
   "cell_type": "code",
   "execution_count": 26,
   "id": "caa82114",
   "metadata": {},
   "outputs": [
    {
     "data": {
      "text/plain": [
       "array([[[ 1,  2,  3],\n",
       "        [ 4,  5,  6],\n",
       "        [ 0,  0, -1]],\n",
       "\n",
       "       [[ 5,  2, -3],\n",
       "        [ 4, -5, -6],\n",
       "        [ 0,  0, -1]]])"
      ]
     },
     "execution_count": 26,
     "metadata": {},
     "output_type": "execute_result"
    }
   ],
   "source": [
    "c"
   ]
  },
  {
   "cell_type": "code",
   "execution_count": 27,
   "id": "654670fb",
   "metadata": {},
   "outputs": [
    {
     "data": {
      "text/plain": [
       "3"
      ]
     },
     "execution_count": 27,
     "metadata": {},
     "output_type": "execute_result"
    }
   ],
   "source": [
    "c.ndim"
   ]
  },
  {
   "cell_type": "code",
   "execution_count": 28,
   "id": "26d40744",
   "metadata": {},
   "outputs": [
    {
     "data": {
      "text/plain": [
       "-3"
      ]
     },
     "execution_count": 28,
     "metadata": {},
     "output_type": "execute_result"
    }
   ],
   "source": [
    "c[1,0,2]"
   ]
  },
  {
   "cell_type": "code",
   "execution_count": 30,
   "id": "243f4eb8",
   "metadata": {},
   "outputs": [
    {
     "data": {
      "text/plain": [
       "3"
      ]
     },
     "execution_count": 30,
     "metadata": {},
     "output_type": "execute_result"
    }
   ],
   "source": [
    "c[0,0,2]"
   ]
  },
  {
   "cell_type": "code",
   "execution_count": 31,
   "id": "0040cbc0",
   "metadata": {},
   "outputs": [
    {
     "data": {
      "text/plain": [
       "numpy.ndarray"
      ]
     },
     "execution_count": 31,
     "metadata": {},
     "output_type": "execute_result"
    }
   ],
   "source": [
    "type(c)"
   ]
  },
  {
   "cell_type": "code",
   "execution_count": 34,
   "id": "6eefb555",
   "metadata": {},
   "outputs": [
    {
     "data": {
      "text/plain": [
       "3"
      ]
     },
     "execution_count": 34,
     "metadata": {},
     "output_type": "execute_result"
    }
   ],
   "source": [
    "c.shape[2]"
   ]
  },
  {
   "cell_type": "code",
   "execution_count": 36,
   "id": "dee1dec3",
   "metadata": {},
   "outputs": [
    {
     "data": {
      "text/plain": [
       "18"
      ]
     },
     "execution_count": 36,
     "metadata": {},
     "output_type": "execute_result"
    }
   ],
   "source": [
    "c.size"
   ]
  },
  {
   "cell_type": "code",
   "execution_count": 37,
   "id": "9548dbb1",
   "metadata": {},
   "outputs": [
    {
     "data": {
      "text/plain": [
       "144"
      ]
     },
     "execution_count": 37,
     "metadata": {},
     "output_type": "execute_result"
    }
   ],
   "source": [
    "c.nbytes"
   ]
  },
  {
   "cell_type": "code",
   "execution_count": 46,
   "id": "89864f5c",
   "metadata": {},
   "outputs": [],
   "source": [
    "A = np.arange(20,100,3) #np.arange(start, end, jump)"
   ]
  },
  {
   "cell_type": "code",
   "execution_count": 47,
   "id": "211c8562",
   "metadata": {},
   "outputs": [
    {
     "name": "stdout",
     "output_type": "stream",
     "text": [
      "[20 23 26 29 32 35 38 41 44 47 50 53 56 59 62 65 68 71 74 77 80 83 86 89\n",
      " 92 95 98]\n"
     ]
    }
   ],
   "source": [
    "print(A)"
   ]
  },
  {
   "cell_type": "code",
   "execution_count": 48,
   "id": "77fea0a7",
   "metadata": {},
   "outputs": [
    {
     "name": "stdout",
     "output_type": "stream",
     "text": [
      "range(0, 10)\n"
     ]
    }
   ],
   "source": [
    "print(range(10))"
   ]
  },
  {
   "cell_type": "code",
   "execution_count": 51,
   "id": "8c5247ea",
   "metadata": {},
   "outputs": [],
   "source": [
    "A = np.random.permutation(np.arange(11))"
   ]
  },
  {
   "cell_type": "code",
   "execution_count": 56,
   "id": "4d31590c",
   "metadata": {},
   "outputs": [
    {
     "name": "stdout",
     "output_type": "stream",
     "text": [
      "[ 9  3  6  8 10  2  0  1  5  7  4]\n"
     ]
    }
   ],
   "source": [
    "print(A)"
   ]
  },
  {
   "cell_type": "code",
   "execution_count": 57,
   "id": "646d2b7f",
   "metadata": {},
   "outputs": [
    {
     "name": "stdout",
     "output_type": "stream",
     "text": [
      "[ 9  3  6  8 10  2  0  1  5  7  4]\n"
     ]
    }
   ],
   "source": [
    "print(A)"
   ]
  },
  {
   "cell_type": "code",
   "execution_count": 59,
   "id": "a7f78205",
   "metadata": {},
   "outputs": [
    {
     "name": "stdout",
     "output_type": "stream",
     "text": [
      "Help on built-in function randint:\n",
      "\n",
      "randint(...) method of numpy.random.mtrand.RandomState instance\n",
      "    randint(low, high=None, size=None, dtype=int)\n",
      "    \n",
      "    Return random integers from `low` (inclusive) to `high` (exclusive).\n",
      "    \n",
      "    Return random integers from the \"discrete uniform\" distribution of\n",
      "    the specified dtype in the \"half-open\" interval [`low`, `high`). If\n",
      "    `high` is None (the default), then results are from [0, `low`).\n",
      "    \n",
      "    .. note::\n",
      "        New code should use the ``integers`` method of a ``default_rng()``\n",
      "        instance instead; please see the :ref:`random-quick-start`.\n",
      "    \n",
      "    Parameters\n",
      "    ----------\n",
      "    low : int or array-like of ints\n",
      "        Lowest (signed) integers to be drawn from the distribution (unless\n",
      "        ``high=None``, in which case this parameter is one above the\n",
      "        *highest* such integer).\n",
      "    high : int or array-like of ints, optional\n",
      "        If provided, one above the largest (signed) integer to be drawn\n",
      "        from the distribution (see above for behavior if ``high=None``).\n",
      "        If array-like, must contain integer values\n",
      "    size : int or tuple of ints, optional\n",
      "        Output shape.  If the given shape is, e.g., ``(m, n, k)``, then\n",
      "        ``m * n * k`` samples are drawn.  Default is None, in which case a\n",
      "        single value is returned.\n",
      "    dtype : dtype, optional\n",
      "        Desired dtype of the result. Byteorder must be native.\n",
      "        The default value is int.\n",
      "    \n",
      "        .. versionadded:: 1.11.0\n",
      "    \n",
      "    Returns\n",
      "    -------\n",
      "    out : int or ndarray of ints\n",
      "        `size`-shaped array of random integers from the appropriate\n",
      "        distribution, or a single such random int if `size` not provided.\n",
      "    \n",
      "    See Also\n",
      "    --------\n",
      "    random_integers : similar to `randint`, only for the closed\n",
      "        interval [`low`, `high`], and 1 is the lowest value if `high` is\n",
      "        omitted.\n",
      "    Generator.integers: which should be used for new code.\n",
      "    \n",
      "    Examples\n",
      "    --------\n",
      "    >>> np.random.randint(2, size=10)\n",
      "    array([1, 0, 0, 0, 1, 1, 0, 0, 1, 0]) # random\n",
      "    >>> np.random.randint(1, size=10)\n",
      "    array([0, 0, 0, 0, 0, 0, 0, 0, 0, 0])\n",
      "    \n",
      "    Generate a 2 x 4 array of ints between 0 and 4, inclusive:\n",
      "    \n",
      "    >>> np.random.randint(5, size=(2, 4))\n",
      "    array([[4, 0, 2, 1], # random\n",
      "           [3, 2, 2, 0]])\n",
      "    \n",
      "    Generate a 1 x 3 array with 3 different upper bounds\n",
      "    \n",
      "    >>> np.random.randint(1, [3, 5, 10])\n",
      "    array([2, 2, 9]) # random\n",
      "    \n",
      "    Generate a 1 by 3 array with 3 different lower bounds\n",
      "    \n",
      "    >>> np.random.randint([1, 5, 7], 10)\n",
      "    array([9, 8, 7]) # random\n",
      "    \n",
      "    Generate a 2 by 4 array using broadcasting with dtype of uint8\n",
      "    \n",
      "    >>> np.random.randint([1, 3, 5, 7], [[10], [20]], dtype=np.uint8)\n",
      "    array([[ 8,  6,  9,  7], # random\n",
      "           [ 1, 16,  9, 12]], dtype=uint8)\n",
      "\n"
     ]
    }
   ],
   "source": [
    "help(np.random.randint)"
   ]
  },
  {
   "cell_type": "code",
   "execution_count": 60,
   "id": "c945fed9",
   "metadata": {},
   "outputs": [],
   "source": [
    "v = np.random.randint(20, 300)"
   ]
  },
  {
   "cell_type": "code",
   "execution_count": 61,
   "id": "4172c560",
   "metadata": {},
   "outputs": [
    {
     "name": "stdout",
     "output_type": "stream",
     "text": [
      "119\n"
     ]
    }
   ],
   "source": [
    "print(v)"
   ]
  },
  {
   "cell_type": "code",
   "execution_count": 62,
   "id": "fb6d76ca",
   "metadata": {},
   "outputs": [
    {
     "data": {
      "text/plain": [
       "int"
      ]
     },
     "execution_count": 62,
     "metadata": {},
     "output_type": "execute_result"
    }
   ],
   "source": [
    "type(v)"
   ]
  },
  {
   "cell_type": "code",
   "execution_count": 66,
   "id": "d7012625",
   "metadata": {},
   "outputs": [
    {
     "name": "stdout",
     "output_type": "stream",
     "text": [
      "Help on function reshape in module numpy:\n",
      "\n",
      "reshape(a, newshape, order='C')\n",
      "    Gives a new shape to an array without changing its data.\n",
      "    \n",
      "    Parameters\n",
      "    ----------\n",
      "    a : array_like\n",
      "        Array to be reshaped.\n",
      "    newshape : int or tuple of ints\n",
      "        The new shape should be compatible with the original shape. If\n",
      "        an integer, then the result will be a 1-D array of that length.\n",
      "        One shape dimension can be -1. In this case, the value is\n",
      "        inferred from the length of the array and remaining dimensions.\n",
      "    order : {'C', 'F', 'A'}, optional\n",
      "        Read the elements of `a` using this index order, and place the\n",
      "        elements into the reshaped array using this index order.  'C'\n",
      "        means to read / write the elements using C-like index order,\n",
      "        with the last axis index changing fastest, back to the first\n",
      "        axis index changing slowest. 'F' means to read / write the\n",
      "        elements using Fortran-like index order, with the first index\n",
      "        changing fastest, and the last index changing slowest. Note that\n",
      "        the 'C' and 'F' options take no account of the memory layout of\n",
      "        the underlying array, and only refer to the order of indexing.\n",
      "        'A' means to read / write the elements in Fortran-like index\n",
      "        order if `a` is Fortran *contiguous* in memory, C-like order\n",
      "        otherwise.\n",
      "    \n",
      "    Returns\n",
      "    -------\n",
      "    reshaped_array : ndarray\n",
      "        This will be a new view object if possible; otherwise, it will\n",
      "        be a copy.  Note there is no guarantee of the *memory layout* (C- or\n",
      "        Fortran- contiguous) of the returned array.\n",
      "    \n",
      "    See Also\n",
      "    --------\n",
      "    ndarray.reshape : Equivalent method.\n",
      "    \n",
      "    Notes\n",
      "    -----\n",
      "    It is not always possible to change the shape of an array without\n",
      "    copying the data. If you want an error to be raised when the data is copied,\n",
      "    you should assign the new shape to the shape attribute of the array::\n",
      "    \n",
      "     >>> a = np.zeros((10, 2))\n",
      "    \n",
      "     # A transpose makes the array non-contiguous\n",
      "     >>> b = a.T\n",
      "    \n",
      "     # Taking a view makes it possible to modify the shape without modifying\n",
      "     # the initial object.\n",
      "     >>> c = b.view()\n",
      "     >>> c.shape = (20)\n",
      "     Traceback (most recent call last):\n",
      "        ...\n",
      "     AttributeError: Incompatible shape for in-place modification. Use\n",
      "     `.reshape()` to make a copy with the desired shape.\n",
      "    \n",
      "    The `order` keyword gives the index ordering both for *fetching* the values\n",
      "    from `a`, and then *placing* the values into the output array.\n",
      "    For example, let's say you have an array:\n",
      "    \n",
      "    >>> a = np.arange(6).reshape((3, 2))\n",
      "    >>> a\n",
      "    array([[0, 1],\n",
      "           [2, 3],\n",
      "           [4, 5]])\n",
      "    \n",
      "    You can think of reshaping as first raveling the array (using the given\n",
      "    index order), then inserting the elements from the raveled array into the\n",
      "    new array using the same kind of index ordering as was used for the\n",
      "    raveling.\n",
      "    \n",
      "    >>> np.reshape(a, (2, 3)) # C-like index ordering\n",
      "    array([[0, 1, 2],\n",
      "           [3, 4, 5]])\n",
      "    >>> np.reshape(np.ravel(a), (2, 3)) # equivalent to C ravel then C reshape\n",
      "    array([[0, 1, 2],\n",
      "           [3, 4, 5]])\n",
      "    >>> np.reshape(a, (2, 3), order='F') # Fortran-like index ordering\n",
      "    array([[0, 4, 3],\n",
      "           [2, 1, 5]])\n",
      "    >>> np.reshape(np.ravel(a, order='F'), (2, 3), order='F')\n",
      "    array([[0, 4, 3],\n",
      "           [2, 1, 5]])\n",
      "    \n",
      "    Examples\n",
      "    --------\n",
      "    >>> a = np.array([[1,2,3], [4,5,6]])\n",
      "    >>> np.reshape(a, 6)\n",
      "    array([1, 2, 3, 4, 5, 6])\n",
      "    >>> np.reshape(a, 6, order='F')\n",
      "    array([1, 4, 2, 5, 3, 6])\n",
      "    \n",
      "    >>> np.reshape(a, (3,-1))       # the unspecified value is inferred to be 2\n",
      "    array([[1, 2],\n",
      "           [3, 4],\n",
      "           [5, 6]])\n",
      "\n"
     ]
    }
   ],
   "source": [
    "help(np.reshape)"
   ]
  },
  {
   "cell_type": "code",
   "execution_count": 67,
   "id": "9e5d9ae6",
   "metadata": {},
   "outputs": [],
   "source": [
    "A = np.random.rand(1000)"
   ]
  },
  {
   "cell_type": "code",
   "execution_count": 68,
   "id": "427bf729",
   "metadata": {},
   "outputs": [],
   "source": [
    "import matplotlib.pyplot as plt"
   ]
  },
  {
   "cell_type": "code",
   "execution_count": 71,
   "id": "b6a2ad25",
   "metadata": {},
   "outputs": [
    {
     "name": "stdout",
     "output_type": "stream",
     "text": [
      "(array([ 7., 13.,  8.,  9., 11., 14.,  6.,  8., 12., 12.,  5., 13., 13.,\n",
      "       10., 13., 10., 12., 12.,  7., 12.,  3., 11., 11.,  8.,  9.,  6.,\n",
      "        9., 10.,  9.,  6., 11., 13., 11.,  9.,  7.,  6., 13.,  8.,  9.,\n",
      "        5.,  7., 12.,  6., 13., 12.,  6.,  9.,  8., 10., 10., 13., 10.,\n",
      "        7., 14.,  5., 14., 15.,  9., 15.,  9.,  6., 11., 15.,  9.,  9.,\n",
      "        8., 18., 13.,  6., 10.,  6., 12.,  7.,  9., 12., 12., 11.,  8.,\n",
      "        9., 13., 13., 14., 10.,  8., 12., 14.,  6., 13.,  7.,  9.,  7.,\n",
      "       13.,  8.,  9., 11., 11., 15., 12.,  9., 10.]), array([6.53689989e-05, 1.00621246e-02, 2.00588801e-02, 3.00556357e-02,\n",
      "       4.00523912e-02, 5.00491468e-02, 6.00459023e-02, 7.00426579e-02,\n",
      "       8.00394134e-02, 9.00361690e-02, 1.00032925e-01, 1.10029680e-01,\n",
      "       1.20026436e-01, 1.30023191e-01, 1.40019947e-01, 1.50016702e-01,\n",
      "       1.60013458e-01, 1.70010213e-01, 1.80006969e-01, 1.90003724e-01,\n",
      "       2.00000480e-01, 2.09997236e-01, 2.19993991e-01, 2.29990747e-01,\n",
      "       2.39987502e-01, 2.49984258e-01, 2.59981013e-01, 2.69977769e-01,\n",
      "       2.79974524e-01, 2.89971280e-01, 2.99968036e-01, 3.09964791e-01,\n",
      "       3.19961547e-01, 3.29958302e-01, 3.39955058e-01, 3.49951813e-01,\n",
      "       3.59948569e-01, 3.69945324e-01, 3.79942080e-01, 3.89938836e-01,\n",
      "       3.99935591e-01, 4.09932347e-01, 4.19929102e-01, 4.29925858e-01,\n",
      "       4.39922613e-01, 4.49919369e-01, 4.59916124e-01, 4.69912880e-01,\n",
      "       4.79909636e-01, 4.89906391e-01, 4.99903147e-01, 5.09899902e-01,\n",
      "       5.19896658e-01, 5.29893413e-01, 5.39890169e-01, 5.49886924e-01,\n",
      "       5.59883680e-01, 5.69880435e-01, 5.79877191e-01, 5.89873947e-01,\n",
      "       5.99870702e-01, 6.09867458e-01, 6.19864213e-01, 6.29860969e-01,\n",
      "       6.39857724e-01, 6.49854480e-01, 6.59851235e-01, 6.69847991e-01,\n",
      "       6.79844747e-01, 6.89841502e-01, 6.99838258e-01, 7.09835013e-01,\n",
      "       7.19831769e-01, 7.29828524e-01, 7.39825280e-01, 7.49822035e-01,\n",
      "       7.59818791e-01, 7.69815547e-01, 7.79812302e-01, 7.89809058e-01,\n",
      "       7.99805813e-01, 8.09802569e-01, 8.19799324e-01, 8.29796080e-01,\n",
      "       8.39792835e-01, 8.49789591e-01, 8.59786347e-01, 8.69783102e-01,\n",
      "       8.79779858e-01, 8.89776613e-01, 8.99773369e-01, 9.09770124e-01,\n",
      "       9.19766880e-01, 9.29763635e-01, 9.39760391e-01, 9.49757146e-01,\n",
      "       9.59753902e-01, 9.69750658e-01, 9.79747413e-01, 9.89744169e-01,\n",
      "       9.99740924e-01]), <BarContainer object of 100 artists>)\n"
     ]
    },
    {
     "data": {
      "image/png": "[encoded data removed]",
      "text/plain": [
       "<Figure size 640x480 with 1 Axes>"
      ]
     },
     "metadata": {},
     "output_type": "display_data"
    }
   ],
   "source": [
    "print(plt.hist(A, bins=100))"
   ]
  },
  {
   "cell_type": "code",
   "execution_count": 72,
   "id": "3e83bb40",
   "metadata": {
    "scrolled": true
   },
   "outputs": [
    {
     "data": {
      "text/plain": [
       "(array([2.000e+00, 2.000e+00, 2.000e+00, 4.000e+00, 6.000e+00, 7.000e+00,\n",
       "        1.000e+01, 1.500e+01, 1.600e+01, 1.700e+01, 2.200e+01, 3.200e+01,\n",
       "        2.500e+01, 5.200e+01, 6.600e+01, 8.300e+01, 1.170e+02, 1.230e+02,\n",
       "        1.600e+02, 1.900e+02, 2.120e+02, 2.650e+02, 3.320e+02, 3.770e+02,\n",
       "        4.550e+02, 5.610e+02, 6.380e+02, 7.470e+02, 7.740e+02, 1.002e+03,\n",
       "        1.120e+03, 1.264e+03, 1.437e+03, 1.539e+03, 1.701e+03, 1.888e+03,\n",
       "        2.025e+03, 2.120e+03, 2.398e+03, 2.561e+03, 2.667e+03, 2.773e+03,\n",
       "        2.922e+03, 3.126e+03, 3.075e+03, 3.298e+03, 3.299e+03, 3.389e+03,\n",
       "        3.285e+03, 3.262e+03, 3.269e+03, 3.207e+03, 3.120e+03, 3.020e+03,\n",
       "        2.866e+03, 2.745e+03, 2.684e+03, 2.565e+03, 2.303e+03, 2.109e+03,\n",
       "        2.064e+03, 1.830e+03, 1.706e+03, 1.450e+03, 1.408e+03, 1.192e+03,\n",
       "        1.015e+03, 9.400e+02, 7.730e+02, 6.460e+02, 6.600e+02, 5.350e+02,\n",
       "        4.290e+02, 3.480e+02, 3.360e+02, 2.420e+02, 2.220e+02, 1.790e+02,\n",
       "        1.300e+02, 1.130e+02, 1.050e+02, 6.900e+01, 5.300e+01, 4.100e+01,\n",
       "        4.200e+01, 2.700e+01, 2.100e+01, 1.700e+01, 1.200e+01, 1.200e+01,\n",
       "        1.100e+01, 7.000e+00, 6.000e+00, 1.000e+00, 2.000e+00, 1.000e+00,\n",
       "        3.000e+00, 0.000e+00, 0.000e+00, 1.000e+00]),\n",
       " array([-4.00317015, -3.92036804, -3.83756594, -3.75476384, -3.67196173,\n",
       "        -3.58915963, -3.50635752, -3.42355542, -3.34075332, -3.25795121,\n",
       "        -3.17514911, -3.092347  , -3.0095449 , -2.9267428 , -2.84394069,\n",
       "        -2.76113859, -2.67833648, -2.59553438, -2.51273228, -2.42993017,\n",
       "        -2.34712807, -2.26432596, -2.18152386, -2.09872176, -2.01591965,\n",
       "        -1.93311755, -1.85031544, -1.76751334, -1.68471124, -1.60190913,\n",
       "        -1.51910703, -1.43630492, -1.35350282, -1.27070072, -1.18789861,\n",
       "        -1.10509651, -1.0222944 , -0.9394923 , -0.8566902 , -0.77388809,\n",
       "        -0.69108599, -0.60828388, -0.52548178, -0.44267968, -0.35987757,\n",
       "        -0.27707547, -0.19427336, -0.11147126, -0.02866916,  0.05413295,\n",
       "         0.13693505,  0.21973716,  0.30253926,  0.38534136,  0.46814347,\n",
       "         0.55094557,  0.63374768,  0.71654978,  0.79935188,  0.88215399,\n",
       "         0.96495609,  1.0477582 ,  1.1305603 ,  1.2133624 ,  1.29616451,\n",
       "         1.37896661,  1.46176872,  1.54457082,  1.62737292,  1.71017503,\n",
       "         1.79297713,  1.87577924,  1.95858134,  2.04138344,  2.12418555,\n",
       "         2.20698765,  2.28978976,  2.37259186,  2.45539396,  2.53819607,\n",
       "         2.62099817,  2.70380028,  2.78660238,  2.86940448,  2.95220659,\n",
       "         3.03500869,  3.1178108 ,  3.2006129 ,  3.283415  ,  3.36621711,\n",
       "         3.44901921,  3.53182132,  3.61462342,  3.69742553,  3.78022763,\n",
       "         3.86302973,  3.94583184,  4.02863394,  4.11143605,  4.19423815,\n",
       "         4.27704025]),\n",
       " <BarContainer object of 100 artists>)"
      ]
     },
     "execution_count": 72,
     "metadata": {},
     "output_type": "execute_result"
    },
    {
     "data": {
      "image/png": "[encoded data removed]",
      "text/plain": [
       "<Figure size 640x480 with 1 Axes>"
      ]
     },
     "metadata": {},
     "output_type": "display_data"
    }
   ],
   "source": [
    "B = np.random.randn(100000)\n",
    "plt.hist(B, bins=100)"
   ]
  },
  {
   "cell_type": "code",
   "execution_count": 2,
   "id": "aba553a0",
   "metadata": {},
   "outputs": [],
   "source": [
    "import numpy as np\n",
    "C = np.random.rand(2, 3)"
   ]
  },
  {
   "cell_type": "code",
   "execution_count": 3,
   "id": "fb4fee5f",
   "metadata": {},
   "outputs": [
    {
     "data": {
      "text/plain": [
       "array([[0.30249243, 0.68415728, 0.24591646],\n",
       "       [0.02229196, 0.41753884, 0.63468301]])"
      ]
     },
     "execution_count": 3,
     "metadata": {},
     "output_type": "execute_result"
    }
   ],
   "source": [
    "C"
   ]
  },
  {
   "cell_type": "code",
   "execution_count": 4,
   "id": "d739791c",
   "metadata": {},
   "outputs": [
    {
     "data": {
      "text/plain": [
       "2"
      ]
     },
     "execution_count": 4,
     "metadata": {},
     "output_type": "execute_result"
    }
   ],
   "source": [
    "C.ndim"
   ]
  },
  {
   "cell_type": "code",
   "execution_count": 5,
   "id": "849e68a6",
   "metadata": {},
   "outputs": [],
   "source": [
    "C = np.random.rand(2, 3, 4, 2)"
   ]
  },
  {
   "cell_type": "code",
   "execution_count": 7,
   "id": "2d6d680b",
   "metadata": {},
   "outputs": [
    {
     "data": {
      "text/plain": [
       "4"
      ]
     },
     "execution_count": 7,
     "metadata": {},
     "output_type": "execute_result"
    }
   ],
   "source": [
    "C.ndim"
   ]
  },
  {
   "cell_type": "code",
   "execution_count": 8,
   "id": "6b6d505a",
   "metadata": {},
   "outputs": [
    {
     "data": {
      "text/plain": [
       "array([[[[0.22742996, 0.27328937],\n",
       "         [0.82300733, 0.77189884],\n",
       "         [0.27026507, 0.7994081 ],\n",
       "         [0.91420875, 0.47568487]],\n",
       "\n",
       "        [[0.37260396, 0.80680364],\n",
       "         [0.97726334, 0.19334805],\n",
       "         [0.93008504, 0.80655903],\n",
       "         [0.57550408, 0.59061786]],\n",
       "\n",
       "        [[0.41833826, 0.85434138],\n",
       "         [0.94956659, 0.01852145],\n",
       "         [0.01060288, 0.81944627],\n",
       "         [0.44595253, 0.12837561]]],\n",
       "\n",
       "\n",
       "       [[[0.01244806, 0.34909025],\n",
       "         [0.84547453, 0.57755368],\n",
       "         [0.93999545, 0.93610002],\n",
       "         [0.65966124, 0.40464859]],\n",
       "\n",
       "        [[0.62558537, 0.10335681],\n",
       "         [0.4921461 , 0.00679035],\n",
       "         [0.39649115, 0.76743829],\n",
       "         [0.75660071, 0.88282991]],\n",
       "\n",
       "        [[0.39350681, 0.27109995],\n",
       "         [0.67670313, 0.1561535 ],\n",
       "         [0.99682989, 0.6233729 ],\n",
       "         [0.19619327, 0.77749849]]]])"
      ]
     },
     "execution_count": 8,
     "metadata": {},
     "output_type": "execute_result"
    }
   ],
   "source": [
    "C"
   ]
  },
  {
   "cell_type": "code",
   "execution_count": 13,
   "id": "b9828584",
   "metadata": {},
   "outputs": [],
   "source": [
    "D = np.arange(100).reshape(4,5, 5)"
   ]
  },
  {
   "cell_type": "code",
   "execution_count": 14,
   "id": "67bfbefc",
   "metadata": {},
   "outputs": [
    {
     "data": {
      "text/plain": [
       "(4, 5, 5)"
      ]
     },
     "execution_count": 14,
     "metadata": {},
     "output_type": "execute_result"
    }
   ],
   "source": [
    "D.shape"
   ]
  },
  {
   "cell_type": "code",
   "execution_count": 15,
   "id": "64ca87cc",
   "metadata": {},
   "outputs": [
    {
     "data": {
      "text/plain": [
       "array([[[ 0,  1,  2,  3,  4],\n",
       "        [ 5,  6,  7,  8,  9],\n",
       "        [10, 11, 12, 13, 14],\n",
       "        [15, 16, 17, 18, 19],\n",
       "        [20, 21, 22, 23, 24]],\n",
       "\n",
       "       [[25, 26, 27, 28, 29],\n",
       "        [30, 31, 32, 33, 34],\n",
       "        [35, 36, 37, 38, 39],\n",
       "        [40, 41, 42, 43, 44],\n",
       "        [45, 46, 47, 48, 49]],\n",
       "\n",
       "       [[50, 51, 52, 53, 54],\n",
       "        [55, 56, 57, 58, 59],\n",
       "        [60, 61, 62, 63, 64],\n",
       "        [65, 66, 67, 68, 69],\n",
       "        [70, 71, 72, 73, 74]],\n",
       "\n",
       "       [[75, 76, 77, 78, 79],\n",
       "        [80, 81, 82, 83, 84],\n",
       "        [85, 86, 87, 88, 89],\n",
       "        [90, 91, 92, 93, 94],\n",
       "        [95, 96, 97, 98, 99]]])"
      ]
     },
     "execution_count": 15,
     "metadata": {},
     "output_type": "execute_result"
    }
   ],
   "source": [
    "D"
   ]
  },
  {
   "cell_type": "code",
   "execution_count": 17,
   "id": "001fab14",
   "metadata": {},
   "outputs": [
    {
     "name": "stdout",
     "output_type": "stream",
     "text": [
      "Help on built-in function zeros in module numpy:\n",
      "\n",
      "zeros(...)\n",
      "    zeros(shape, dtype=float, order='C', *, like=None)\n",
      "    \n",
      "    Return a new array of given shape and type, filled with zeros.\n",
      "    \n",
      "    Parameters\n",
      "    ----------\n",
      "    shape : int or tuple of ints\n",
      "        Shape of the new array, e.g., ``(2, 3)`` or ``2``.\n",
      "    dtype : data-type, optional\n",
      "        The desired data-type for the array, e.g., `numpy.int8`.  Default is\n",
      "        `numpy.float64`.\n",
      "    order : {'C', 'F'}, optional, default: 'C'\n",
      "        Whether to store multi-dimensional data in row-major\n",
      "        (C-style) or column-major (Fortran-style) order in\n",
      "        memory.\n",
      "    like : array_like\n",
      "        Reference object to allow the creation of arrays which are not\n",
      "        NumPy arrays. If an array-like passed in as ``like`` supports\n",
      "        the ``__array_function__`` protocol, the result will be defined\n",
      "        by it. In this case, it ensures the creation of an array object\n",
      "        compatible with that passed in via this argument.\n",
      "    \n",
      "        .. versionadded:: 1.20.0\n",
      "    \n",
      "    Returns\n",
      "    -------\n",
      "    out : ndarray\n",
      "        Array of zeros with the given shape, dtype, and order.\n",
      "    \n",
      "    See Also\n",
      "    --------\n",
      "    zeros_like : Return an array of zeros with shape and type of input.\n",
      "    empty : Return a new uninitialized array.\n",
      "    ones : Return a new array setting values to one.\n",
      "    full : Return a new array of given shape filled with value.\n",
      "    \n",
      "    Examples\n",
      "    --------\n",
      "    >>> np.zeros(5)\n",
      "    array([ 0.,  0.,  0.,  0.,  0.])\n",
      "    \n",
      "    >>> np.zeros((5,), dtype=int)\n",
      "    array([0, 0, 0, 0, 0])\n",
      "    \n",
      "    >>> np.zeros((2, 1))\n",
      "    array([[ 0.],\n",
      "           [ 0.]])\n",
      "    \n",
      "    >>> s = (2,2)\n",
      "    >>> np.zeros(s)\n",
      "    array([[ 0.,  0.],\n",
      "           [ 0.,  0.]])\n",
      "    \n",
      "    >>> np.zeros((2,), dtype=[('x', 'i4'), ('y', 'i4')]) # custom dtype\n",
      "    array([(0, 0), (0, 0)],\n",
      "          dtype=[('x', '<i4'), ('y', '<i4')])\n",
      "\n"
     ]
    }
   ],
   "source": [
    "help(np.zeros)"
   ]
  },
  {
   "cell_type": "markdown",
   "id": "708d05e6",
   "metadata": {},
   "source": [
    "### Numpy (Slicing)"
   ]
  },
  {
   "cell_type": "code",
   "execution_count": 18,
   "id": "bb8db458",
   "metadata": {},
   "outputs": [],
   "source": [
    "np.ones?"
   ]
  },
  {
   "cell_type": "code",
   "execution_count": 19,
   "id": "a20ded89",
   "metadata": {},
   "outputs": [],
   "source": [
    "A = np.arange(100)"
   ]
  },
  {
   "cell_type": "code",
   "execution_count": 20,
   "id": "347a0e56",
   "metadata": {},
   "outputs": [],
   "source": [
    "b = A[3:10]"
   ]
  },
  {
   "cell_type": "code",
   "execution_count": 21,
   "id": "d0aee703",
   "metadata": {},
   "outputs": [
    {
     "name": "stdout",
     "output_type": "stream",
     "text": [
      "[3 4 5 6 7 8 9]\n"
     ]
    }
   ],
   "source": [
    "print(b)"
   ]
  },
  {
   "cell_type": "code",
   "execution_count": 22,
   "id": "d4a0d6b8",
   "metadata": {},
   "outputs": [],
   "source": [
    "b[0] = -1200"
   ]
  },
  {
   "cell_type": "code",
   "execution_count": 23,
   "id": "0795b31d",
   "metadata": {},
   "outputs": [
    {
     "data": {
      "text/plain": [
       "array([-1200,     4,     5,     6,     7,     8,     9])"
      ]
     },
     "execution_count": 23,
     "metadata": {},
     "output_type": "execute_result"
    }
   ],
   "source": [
    "b"
   ]
  },
  {
   "cell_type": "code",
   "execution_count": 24,
   "id": "b8d6a3d0",
   "metadata": {},
   "outputs": [
    {
     "data": {
      "text/plain": [
       "array([    0,     1,     2, -1200,     4,     5,     6,     7,     8,\n",
       "           9,    10,    11,    12,    13,    14,    15,    16,    17,\n",
       "          18,    19,    20,    21,    22,    23,    24,    25,    26,\n",
       "          27,    28,    29,    30,    31,    32,    33,    34,    35,\n",
       "          36,    37,    38,    39,    40,    41,    42,    43,    44,\n",
       "          45,    46,    47,    48,    49,    50,    51,    52,    53,\n",
       "          54,    55,    56,    57,    58,    59,    60,    61,    62,\n",
       "          63,    64,    65,    66,    67,    68,    69,    70,    71,\n",
       "          72,    73,    74,    75,    76,    77,    78,    79,    80,\n",
       "          81,    82,    83,    84,    85,    86,    87,    88,    89,\n",
       "          90,    91,    92,    93,    94,    95,    96,    97,    98,\n",
       "          99])"
      ]
     },
     "execution_count": 24,
     "metadata": {},
     "output_type": "execute_result"
    }
   ],
   "source": [
    "A"
   ]
  },
  {
   "cell_type": "code",
   "execution_count": 25,
   "id": "97f2c154",
   "metadata": {},
   "outputs": [],
   "source": [
    "b = A[3:10].copy"
   ]
  },
  {
   "cell_type": "code",
   "execution_count": 31,
   "id": "2ff52aa8",
   "metadata": {},
   "outputs": [
    {
     "data": {
      "text/plain": [
       "array([99, 94, 89, 84, 79, 74, 69, 64, 59, 54, 49, 44, 39, 34, 29, 24, 19,\n",
       "       14,  9,  4])"
      ]
     },
     "execution_count": 31,
     "metadata": {},
     "output_type": "execute_result"
    }
   ],
   "source": [
    "A[::-5]"
   ]
  },
  {
   "cell_type": "code",
   "execution_count": 32,
   "id": "38da9e33",
   "metadata": {},
   "outputs": [
    {
     "data": {
      "text/plain": [
       "array([ 0,  5, 10, 15, 20, 25, 30, 35, 40, 45, 50, 55, 60, 65, 70, 75, 80,\n",
       "       85, 90, 95])"
      ]
     },
     "execution_count": 32,
     "metadata": {},
     "output_type": "execute_result"
    }
   ],
   "source": [
    "A[::5]"
   ]
  },
  {
   "cell_type": "code",
   "execution_count": 33,
   "id": "ef10a570",
   "metadata": {},
   "outputs": [
    {
     "data": {
      "text/plain": [
       "array([   99,    98,    97,    96,    95,    94,    93,    92,    91,\n",
       "          90,    89,    88,    87,    86,    85,    84,    83,    82,\n",
       "          81,    80,    79,    78,    77,    76,    75,    74,    73,\n",
       "          72,    71,    70,    69,    68,    67,    66,    65,    64,\n",
       "          63,    62,    61,    60,    59,    58,    57,    56,    55,\n",
       "          54,    53,    52,    51,    50,    49,    48,    47,    46,\n",
       "          45,    44,    43,    42,    41,    40,    39,    38,    37,\n",
       "          36,    35,    34,    33,    32,    31,    30,    29,    28,\n",
       "          27,    26,    25,    24,    23,    22,    21,    20,    19,\n",
       "          18,    17,    16,    15,    14,    13,    12,    11,    10,\n",
       "           9,     8,     7,     6,     5,     4, -1200,     2,     1,\n",
       "           0])"
      ]
     },
     "execution_count": 33,
     "metadata": {},
     "output_type": "execute_result"
    }
   ],
   "source": [
    "A[::-1]"
   ]
  },
  {
   "cell_type": "code",
   "execution_count": 36,
   "id": "bdbd804c",
   "metadata": {},
   "outputs": [],
   "source": [
    "B = (A==-1200)*np.arange(A.size)"
   ]
  },
  {
   "cell_type": "code",
   "execution_count": 37,
   "id": "d86c6634",
   "metadata": {},
   "outputs": [
    {
     "data": {
      "text/plain": [
       "array([0, 0, 0, 3, 0, 0, 0, 0, 0, 0, 0, 0, 0, 0, 0, 0, 0, 0, 0, 0, 0, 0,\n",
       "       0, 0, 0, 0, 0, 0, 0, 0, 0, 0, 0, 0, 0, 0, 0, 0, 0, 0, 0, 0, 0, 0,\n",
       "       0, 0, 0, 0, 0, 0, 0, 0, 0, 0, 0, 0, 0, 0, 0, 0, 0, 0, 0, 0, 0, 0,\n",
       "       0, 0, 0, 0, 0, 0, 0, 0, 0, 0, 0, 0, 0, 0, 0, 0, 0, 0, 0, 0, 0, 0,\n",
       "       0, 0, 0, 0, 0, 0, 0, 0, 0, 0, 0, 0])"
      ]
     },
     "execution_count": 37,
     "metadata": {},
     "output_type": "execute_result"
    }
   ],
   "source": [
    "B"
   ]
  },
  {
   "cell_type": "code",
   "execution_count": 38,
   "id": "338bd229",
   "metadata": {},
   "outputs": [
    {
     "data": {
      "text/plain": [
       "array([    0,     1,     2, -1200,     4,     5,     6,     7,     8,\n",
       "           9,    10,    11,    12,    13,    14,    15,    16,    17,\n",
       "          18,    19,    20,    21,    22,    23,    24,    25,    26,\n",
       "          27,    28,    29,    30,    31,    32,    33,    34,    35,\n",
       "          36,    37,    38,    39,    40,    41,    42,    43,    44,\n",
       "          45,    46,    47,    48,    49,    50,    51,    52,    53,\n",
       "          54,    55,    56,    57,    58,    59,    60,    61,    62,\n",
       "          63,    64,    65,    66,    67,    68,    69,    70,    71,\n",
       "          72,    73,    74,    75,    76,    77,    78,    79,    80,\n",
       "          81,    82,    83,    84,    85,    86,    87,    88,    89,\n",
       "          90,    91,    92,    93,    94,    95,    96,    97,    98,\n",
       "          99])"
      ]
     },
     "execution_count": 38,
     "metadata": {},
     "output_type": "execute_result"
    }
   ],
   "source": [
    "A"
   ]
  },
  {
   "cell_type": "code",
   "execution_count": 43,
   "id": "2c908d90",
   "metadata": {},
   "outputs": [],
   "source": [
    "idx = np.argwhere(A==-1200)[0][0]"
   ]
  },
  {
   "cell_type": "code",
   "execution_count": 45,
   "id": "6fe044db",
   "metadata": {},
   "outputs": [
    {
     "data": {
      "text/plain": [
       "3"
      ]
     },
     "execution_count": 45,
     "metadata": {},
     "output_type": "execute_result"
    }
   ],
   "source": [
    "idx"
   ]
  },
  {
   "cell_type": "code",
   "execution_count": 47,
   "id": "a196aa43",
   "metadata": {},
   "outputs": [],
   "source": [
    "A[idx] = 3"
   ]
  },
  {
   "cell_type": "code",
   "execution_count": 48,
   "id": "72c19cb9",
   "metadata": {},
   "outputs": [
    {
     "data": {
      "text/plain": [
       "array([ 0,  1,  2,  3,  4,  5,  6,  7,  8,  9, 10, 11, 12, 13, 14, 15, 16,\n",
       "       17, 18, 19, 20, 21, 22, 23, 24, 25, 26, 27, 28, 29, 30, 31, 32, 33,\n",
       "       34, 35, 36, 37, 38, 39, 40, 41, 42, 43, 44, 45, 46, 47, 48, 49, 50,\n",
       "       51, 52, 53, 54, 55, 56, 57, 58, 59, 60, 61, 62, 63, 64, 65, 66, 67,\n",
       "       68, 69, 70, 71, 72, 73, 74, 75, 76, 77, 78, 79, 80, 81, 82, 83, 84,\n",
       "       85, 86, 87, 88, 89, 90, 91, 92, 93, 94, 95, 96, 97, 98, 99])"
      ]
     },
     "execution_count": 48,
     "metadata": {},
     "output_type": "execute_result"
    }
   ],
   "source": [
    "A"
   ]
  },
  {
   "cell_type": "code",
   "execution_count": 51,
   "id": "c8974a69",
   "metadata": {},
   "outputs": [],
   "source": [
    "A = np.round(10*np.random.rand(5,4))"
   ]
  },
  {
   "cell_type": "code",
   "execution_count": 52,
   "id": "9e332513",
   "metadata": {},
   "outputs": [
    {
     "data": {
      "text/plain": [
       "array([[ 4.,  1.,  5.,  7.],\n",
       "       [ 3.,  1.,  1.,  1.],\n",
       "       [ 9.,  0.,  8.,  4.],\n",
       "       [ 6.,  6.,  8.,  0.],\n",
       "       [ 3.,  2.,  2., 10.]])"
      ]
     },
     "execution_count": 52,
     "metadata": {},
     "output_type": "execute_result"
    }
   ],
   "source": [
    "A"
   ]
  },
  {
   "cell_type": "code",
   "execution_count": 53,
   "id": "36ce8d46",
   "metadata": {},
   "outputs": [
    {
     "data": {
      "text/plain": [
       "1.0"
      ]
     },
     "execution_count": 53,
     "metadata": {},
     "output_type": "execute_result"
    }
   ],
   "source": [
    "A[1,2]"
   ]
  },
  {
   "cell_type": "code",
   "execution_count": 54,
   "id": "7640dfe0",
   "metadata": {},
   "outputs": [
    {
     "data": {
      "text/plain": [
       "array([3., 1., 1., 1.])"
      ]
     },
     "execution_count": 54,
     "metadata": {},
     "output_type": "execute_result"
    }
   ],
   "source": [
    "A[1,:]"
   ]
  },
  {
   "cell_type": "code",
   "execution_count": 56,
   "id": "45075d9b",
   "metadata": {},
   "outputs": [
    {
     "data": {
      "text/plain": [
       "array([1., 1., 0., 6., 2.])"
      ]
     },
     "execution_count": 56,
     "metadata": {},
     "output_type": "execute_result"
    }
   ],
   "source": [
    "A[:,1]"
   ]
  },
  {
   "cell_type": "code",
   "execution_count": 57,
   "id": "634469ab",
   "metadata": {},
   "outputs": [],
   "source": [
    "import numpy.linalg as la"
   ]
  },
  {
   "cell_type": "code",
   "execution_count": 58,
   "id": "8b239187",
   "metadata": {},
   "outputs": [
    {
     "data": {
      "text/plain": [
       "array([[-0.53885395,  3.01068012, -0.34413924],\n",
       "       [-1.42691093, -2.37844994,  2.1041772 ],\n",
       "       [ 1.6735619 , -1.58773543, -0.00342023]])"
      ]
     },
     "execution_count": 58,
     "metadata": {},
     "output_type": "execute_result"
    }
   ],
   "source": [
    "la.inv(np.random.rand(3,3))"
   ]
  },
  {
   "cell_type": "code",
   "execution_count": 64,
   "id": "58c40fed",
   "metadata": {},
   "outputs": [],
   "source": [
    "A.sort(axis=1)"
   ]
  },
  {
   "cell_type": "code",
   "execution_count": 65,
   "id": "dd27f7ef",
   "metadata": {},
   "outputs": [
    {
     "data": {
      "text/plain": [
       "array([[ 0.,  0.,  1.,  3.],\n",
       "       [ 1.,  1.,  2.,  3.],\n",
       "       [ 1.,  4.,  4.,  5.],\n",
       "       [ 2.,  6.,  7.,  8.],\n",
       "       [ 6.,  8.,  9., 10.]])"
      ]
     },
     "execution_count": 65,
     "metadata": {},
     "output_type": "execute_result"
    }
   ],
   "source": [
    "A"
   ]
  }
 ],
 "metadata": {
  "kernelspec": {
   "display_name": "Python 3 (ipykernel)",
   "language": "python",
   "name": "python3"
  },
  "language_info": {
   "codemirror_mode": {
    "name": "ipython",
    "version": 3
   },
   "file_extension": ".py",
   "mimetype": "text/x-python",
   "name": "python",
   "nbconvert_exporter": "python",
   "pygments_lexer": "ipython3",
   "version": "3.9.13"
  }
 },
 "nbformat": 4,
 "nbformat_minor": 5
}
