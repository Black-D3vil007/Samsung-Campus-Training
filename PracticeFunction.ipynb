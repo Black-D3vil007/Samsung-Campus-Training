{
 "cells": [
  {
   "cell_type": "code",
   "execution_count": 1,
   "id": "7990c8c7",
   "metadata": {
    "scrolled": true
   },
   "outputs": [
    {
     "data": {
      "text/plain": [
       "'\\nGiven a list of numbers i.e. [1, 2, 4, -5, 7, 9, 3, 2], make another list\\nthat contains all the items in sorted order from min to max. i.e. your \\nresult will be another list like [-5, 1, 2, 2, 3, 3, 7, 9]\\n'"
      ]
     },
     "execution_count": 1,
     "metadata": {},
     "output_type": "execute_result"
    }
   ],
   "source": [
    " \"\"\"\n",
    "Given a list of numbers i.e. [1, 2, 4, -5, 7, 9, 3, 2], make another list\n",
    "that contains all the items in sorted order from min to max. i.e. your \n",
    "result will be another list like [-5, 1, 2, 2, 3, 3, 7, 9]\n",
    "\"\"\""
   ]
  },
  {
   "cell_type": "code",
   "execution_count": 13,
   "id": "c0e063b1",
   "metadata": {},
   "outputs": [],
   "source": [
    "def findMin(L, startIdx):\n",
    "    m = L[startIdx]\n",
    "    idx = startIdx\n",
    "    for i in range(startIdx, len(L)):\n",
    "        x = L[i]\n",
    "        if x < m:\n",
    "            m = x\n",
    "            idx = i\n",
    "        else:\n",
    "            pass\n",
    "    return m, idx"
   ]
  },
  {
   "cell_type": "code",
   "execution_count": 14,
   "id": "555de69c",
   "metadata": {},
   "outputs": [
    {
     "name": "stdout",
     "output_type": "stream",
     "text": [
      "0 3\n"
     ]
    }
   ],
   "source": [
    "a, b = findMin([2, 3, 4, 0, 9], 0)\n",
    "print(a, b)"
   ]
  },
  {
   "cell_type": "code",
   "execution_count": 6,
   "id": "c6c9dc33",
   "metadata": {},
   "outputs": [],
   "source": [
    "def swapValues(a, b):\n",
    "    temp = a\n",
    "    a = b\n",
    "    b = temp\n",
    "    return a, b"
   ]
  },
  {
   "cell_type": "code",
   "execution_count": 7,
   "id": "8f018828",
   "metadata": {},
   "outputs": [
    {
     "name": "stdout",
     "output_type": "stream",
     "text": [
      "6 7\n"
     ]
    }
   ],
   "source": [
    "a, b = swapValues(7, 6)\n",
    "print(a, b)"
   ]
  },
  {
   "cell_type": "code",
   "execution_count": 8,
   "id": "91a6a315",
   "metadata": {},
   "outputs": [],
   "source": [
    "def SwapValues(L, idx1, idx2):\n",
    "    tmp = L[idx1]\n",
    "    L[idx1] = L[idx2]\n",
    "    L[idx2] = tmp\n",
    "    return L"
   ]
  },
  {
   "cell_type": "code",
   "execution_count": 9,
   "id": "9b3f264c",
   "metadata": {
    "scrolled": true
   },
   "outputs": [
    {
     "name": "stdout",
     "output_type": "stream",
     "text": [
      "[2, 7, 6, 3]\n"
     ]
    }
   ],
   "source": [
    "L = [2, 3, 6, 7]\n",
    "L2 = SwapValues(L, 1, 3)\n",
    "print(L2)"
   ]
  },
  {
   "cell_type": "code",
   "execution_count": 60,
   "id": "5ad70db2",
   "metadata": {},
   "outputs": [],
   "source": [
    "def checkIfNumericOrNot(L):\n",
    "    for x in L:\n",
    "        if not(isinstance(x,(int, float))):\n",
    "            return False\n",
    "    return True"
   ]
  },
  {
   "cell_type": "code",
   "execution_count": 63,
   "id": "18c3e5e6",
   "metadata": {},
   "outputs": [],
   "source": [
    "def sortList(L):\n",
    "    if not(checkIfNumericOrNot(L)):\n",
    "        print(\"Error: List doesn't contain numeric values\")\n",
    "        return\n",
    "    else:\n",
    "        cnt = 0\n",
    "        for x in L:\n",
    "            minX, idx = findMin(L, cnt)\n",
    "            L = SwapValues(L, cnt, idx)\n",
    "            cnt += 1\n",
    "    return L"
   ]
  },
  {
   "cell_type": "code",
   "execution_count": 64,
   "id": "e7c9f0ca",
   "metadata": {},
   "outputs": [
    {
     "name": "stdout",
     "output_type": "stream",
     "text": [
      "[-8, 1, 2, 3, 5, 17]\n"
     ]
    }
   ],
   "source": [
    "L2 = sortList([2, 1, 5, 3, -8, 17])\n",
    "print(L2)"
   ]
  },
  {
   "cell_type": "code",
   "execution_count": 59,
   "id": "433f0720",
   "metadata": {},
   "outputs": [],
   "source": [
    "checkIfNotNumeric??"
   ]
  },
  {
   "cell_type": "code",
   "execution_count": 48,
   "id": "a0114573",
   "metadata": {},
   "outputs": [
    {
     "name": "stdout",
     "output_type": "stream",
     "text": [
      "False\n"
     ]
    }
   ],
   "source": [
    "print(checkIfNotNumeric([2, 1, 5, 3, -8, 17]))"
   ]
  },
  {
   "cell_type": "code",
   "execution_count": null,
   "id": "0ec686f6",
   "metadata": {},
   "outputs": [],
   "source": []
  }
 ],
 "metadata": {
  "kernelspec": {
   "display_name": "Python 3 (ipykernel)",
   "language": "python",
   "name": "python3"
  },
  "language_info": {
   "codemirror_mode": {
    "name": "ipython",
    "version": 3
   },
   "file_extension": ".py",
   "mimetype": "text/x-python",
   "name": "python",
   "nbconvert_exporter": "python",
   "pygments_lexer": "ipython3",
   "version": "3.9.13"
  }
 },
 "nbformat": 4,
 "nbformat_minor": 5
}
