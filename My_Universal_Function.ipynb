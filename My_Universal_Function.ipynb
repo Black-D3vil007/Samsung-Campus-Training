{
 "cells": [
  {
   "cell_type": "code",
   "execution_count": 2,
   "id": "b7120afe",
   "metadata": {},
   "outputs": [],
   "source": [
    "def checkIfNotNumeric(*args):\n",
    "    for x in args:\n",
    "        if not(isinstance(x,(int, float))):\n",
    "            return False\n",
    "    return True\n",
    "def addAllNumerics(*args):\n",
    "    sum = 0\n",
    "    for x in args:\n",
    "        sum += x\n",
    "    return sum\n",
    "def checkIfNotNumeric2(L):\n",
    "    for x in L:\n",
    "        if not(isinstance(x,(int, float))):\n",
    "            return False\n",
    "    return True\n",
    "myName = \"Python Course\""
   ]
  },
  {
   "cell_type": "code",
   "execution_count": 4,
   "id": "33423eaf",
   "metadata": {},
   "outputs": [
    {
     "name": "stdout",
     "output_type": "stream",
     "text": [
      "True\n"
     ]
    }
   ],
   "source": [
    "print(checkIfNotNumeric2([2, 1, 5, 3, -8, 17]))"
   ]
  },
  {
   "cell_type": "code",
   "execution_count": null,
   "id": "b9d6e37d",
   "metadata": {},
   "outputs": [],
   "source": []
  }
 ],
 "metadata": {
  "kernelspec": {
   "display_name": "Python 3 (ipykernel)",
   "language": "python",
   "name": "python3"
  },
  "language_info": {
   "codemirror_mode": {
    "name": "ipython",
    "version": 3
   },
   "file_extension": ".py",
   "mimetype": "text/x-python",
   "name": "python",
   "nbconvert_exporter": "python",
   "pygments_lexer": "ipython3",
   "version": "3.9.13"
  }
 },
 "nbformat": 4,
 "nbformat_minor": 5
}
